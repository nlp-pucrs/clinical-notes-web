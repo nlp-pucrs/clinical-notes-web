{
 "cells": [
  {
   "cell_type": "markdown",
   "metadata": {},
   "source": [
    "### Como manipular XML com XPath"
   ]
  },
  {
   "cell_type": "code",
   "execution_count": 677,
   "metadata": {},
   "outputs": [],
   "source": [
    "from gensim.models import KeyedVectors\n",
    "import unicodedata\n",
    "\n",
    "import gzip\n",
    "import xml.etree.ElementTree as ET\n",
    "\n",
    "with gzip.open('pordesc2018.xml.gz') as pordesc2018:\n",
    "    tree = ET.parse(pordesc2018)"
   ]
  },
  {
   "cell_type": "code",
   "execution_count": 678,
   "metadata": {},
   "outputs": [],
   "source": [
    "from unicodedata import normalize\n",
    "def remover_acentos(txt):\n",
    "    return normalize('NFKD', txt).encode('ASCII', 'ignore').decode('ASCII')"
   ]
  },
  {
   "cell_type": "markdown",
   "metadata": {},
   "source": [
    "### Monta Dicionario"
   ]
  },
  {
   "cell_type": "code",
   "execution_count": 679,
   "metadata": {},
   "outputs": [],
   "source": [
    "def verifica_valor(termos_similares, indiceReverso, porc_lista, dictMesh, porc_medio):\n",
    "\n",
    "    #Se ha termos, entao faz a media\n",
    "        \n",
    "    if(len(porc_lista) > 0):\n",
    "        porc_medio = porc_medio/(len(porc_lista))\n",
    "    else:\n",
    "        porc_medio = 0\n",
    "\n",
    "    if(len(termos_similares) > 0):\n",
    "        for i in range(len(termos_similares)):\n",
    "            flag = -1\n",
    "            porc_maior=0\n",
    "\n",
    "            #Caso ele nao tenha sido verificado ainda\n",
    "\n",
    "            #verifica_valor(termo_similar[j], indiceReverso, flag, porc_maior, porc_lista[i], dictMesh, porc_medio)                    \n",
    "\n",
    "\n",
    "\n",
    "            if not (termos_similares[i] in indiceReverso):\n",
    "                flag = 0\n",
    "                porc_maior = porc_lista[i]\n",
    "                terms.append(\"<i> \"+termos_similares[i]+\" </i>\" + \" <input class='radio' type='radio' name='\"+termos_similares[i]+\"' value='1'/> Certo <input class='radio' type='radio' name='\"+termos_similares[i]+\"' value='0'/> Errado\")\n",
    "\n",
    "            #Se a porcentagem do termo em uma definicao for maior que na qual ele ja esta\n",
    "\n",
    "            elif(indiceReverso[termos_similares[i]]['porc_similar'] < porc_lista[i]):\n",
    "                flag = 1\n",
    "                porc_maior = porc_lista[i]\n",
    "                terms.append(\"<i> \"+termos_similares[i]+\" </i>\" + \" <input class='radio' type='radio' name='\"+termos_similares[i]+\"' value='1'/> Certo <input class='radio' type='radio' name='\"+termos_similares[i]+\"' value='0'/> Errado\")\n",
    "\n",
    "            #Se a porcentagem media do termo em uma definicao for maior que na qual ele ja esta\n",
    "\n",
    "            elif(indiceReverso[termos_similares[i]]['porc_similar'] < porc_medio \\\n",
    "                 and indiceReverso[termos_similares[i]]['porc_medio'] < porc_medio):   \n",
    "                flag = 2\n",
    "                porc_maior = porc_lista[i]\n",
    "                terms.append(\"<i> \"+termos_similares[i]+\" </i>\" + \" <input class='radio' type='radio' name='\"+termos_similares[i]+\"' value='1'/> Certo <input class='radio' type='radio' name='\"+termos_similares[i]+\"' value='0'/> Errado\")\n",
    "\n",
    "            #Se for trocar, entao remove o lugar que ele estava antes\n",
    "\n",
    "            if((flag != -1) and (termos_similares[i] in indiceReverso)):\n",
    "                ID = indiceReverso[termos_similares[i]]['ID']\n",
    "                if(ID in  dictMesh):\n",
    "                    for t in range(len(dictMesh[ID]['terms'])-1):\n",
    "                        if '<i> '+termos_similares[i]+' </i>' in dictMesh[ID]['terms'][t]:\n",
    "                            #print(termos_similares[i])\n",
    "                            del dictMesh[ID]['terms'][t] \n",
    "\n",
    "            #Se o termo foi reconhecido e esta sendo a primeira vez ou vai ser trocado,\n",
    "            #entao adiciona ele no indice reverso\n",
    "\n",
    "            if(flag != -1):                       \n",
    "                indiceReverso[termos_similares[i]+' _i'] = {\n",
    "                    'ID': d.find('.DescriptorUI').text,\n",
    "                    'porc_similar': porc_maior,\n",
    "                    'porc_medio': porc_medio,\n",
    "                    'flag': flag\n",
    "\n",
    "                }  "
   ]
  },
  {
   "cell_type": "code",
   "execution_count": 682,
   "metadata": {},
   "outputs": [
    {
     "name": "stdout",
     "output_type": "stream",
     "text": [
      "leg ***type\n",
      "leg ***hodkin\n",
      "leg ***hodgkiniano\n",
      "leg ***hodking\n",
      "leg ***conclusiva\n",
      "leg ***linfona\n",
      "leg ***estadiado\n",
      "leg ***biopsiou\n",
      "leg ***estadiada\n",
      "leg ***aparentado\n",
      "perna ***coxa\n",
      "perna ***mao\n",
      "perna ***panturrilha\n",
      "perna ***panturilha\n",
      "perna ***hemiface\n",
      "perna ***maleolar\n",
      "perna ***virilha\n",
      "perna ***tornozelo\n",
      "perna ***halux\n",
      "perna ***nadega\n",
      "membro ***mebro\n",
      "membro ***menbro\n",
      "membro ***memebro\n",
      "membro ***braco\n",
      "membro ***polegar\n",
      "membro ***tornozelo\n",
      "membro ***antebraco\n",
      "membro ***miesq\n",
      "membro ***ombro\n",
      "membro ***joelho\n",
      "pernas ***costas\n",
      "pernas ***maos\n",
      "pernas ***articulacoes\n",
      "pernas ***juntas\n",
      "pernas ***costaso\n",
      "pernas ***coxas\n",
      "pernas ***nadegas\n",
      "pernas ***palmas\n",
      "pernas ***pernasimpressao\n",
      "pernas ***palpebras\n",
      "membros ***mebros\n",
      "membros ***membors\n",
      "membros ***menbros\n",
      "membros ***memebros\n",
      "membros ***msis\n",
      "membros ***pesi\n",
      "membros ***g560\n",
      "membros ***mmiis\n",
      "membros ***mmii\n",
      "membros ***mis\n",
      "0\n"
     ]
    }
   ],
   "source": [
    "wordModel = KeyedVectors.load_word2vec_format('health_w2v_unigram_50.bin', binary=True)\n",
    "cont = 0\n",
    "\n",
    "dictMesh = {}\n",
    "indiceReverso = {}\n",
    "for d in tree.findall(\"./DescriptorRecord\"):\n",
    "    terms = []\n",
    "    \n",
    "    qualifier = '#'\n",
    "    \n",
    "    #Pega o qualifier do termo\n",
    "    \n",
    "    for aql in d.findall('.AllowableQualifiersList/AllowableQualifier/QualifierReferredTo/QualifierName'):\n",
    "        teste_qualifier = aql.find('./String').text\n",
    "        if(teste_qualifier == 'anatomy & histology' or teste_qualifier == 'pharmacology' or teste_qualifier == 'methods' or teste_qualifier == 'diagnosis'):\n",
    "            qualifier = teste_qualifier\n",
    "            break\n",
    "    \n",
    "    for c in d.findall('.ConceptList/'):\n",
    "        \n",
    "        termos_similares = []\n",
    "        porc_lista = []\n",
    "        porc_medio = 0\n",
    "        \n",
    "        #Pega os termos no XML\n",
    "        \n",
    "        if c.find('./ScopeNote') != None:\n",
    "            scope = c.find('./ScopeNote').text.replace('\\n','').strip()\n",
    "        for t in c.findall('./TermList/'):            \n",
    "            terms.append(t.find('./String').text)\n",
    "            cont_porcentagem = 0\n",
    "            \n",
    "            palavra_similar = []\n",
    "            \n",
    "            palavraa = t.find('./String').text.lower()\n",
    "            \n",
    "            palavraa = palavraa.replace('(','')\n",
    "            palavraa = palavraa.replace(')','')\n",
    "                    \n",
    "            novo = palavraa.split(' ')\n",
    "                            \n",
    "            contador = 0\n",
    "                \n",
    "            while(contador < len(novo)):\n",
    "            \n",
    "                if novo[contador] in wordModel.vocab: #Se o termo esta no word embeddings\n",
    "                    sem_assento = remover_acentos(novo[contador].lower())\n",
    "                    palavra_similar = wordModel.most_similar_cosmul(sem_assento,topn=10)\n",
    "                    \n",
    "                    #Verifica a semilariedade\n",
    "                              \n",
    "                    for similar, porcentagem in palavra_similar:\n",
    "                        \n",
    "                        if (d.find('.DescriptorUI').text == 'D007866'):\n",
    "                            print(novo[contador], \"***\"+similar)\n",
    "                        \n",
    "                        if(porcentagem > 0.89 and qualifier != 'pharmacology'):\n",
    "                            termos_similares.append(similar)\n",
    "                            porc_lista.append(porcentagem)\n",
    "                            porc_medio += porcentagem\n",
    "                        elif(porcentagem > 0.9 and qualifier == 'pharmacology'):\n",
    "                            termos_similares.append(similar)\n",
    "                            porc_lista.append(porcentagem)\n",
    "                            porc_medio += porcentagem\n",
    "\n",
    "                    verifica_valor(termos_similares, indiceReverso, porc_lista, dictMesh, porc_medio)\n",
    "                    \n",
    "                contador += 1\n",
    "                    \n",
    "                    \n",
    "                        \n",
    "        #####\n",
    "    \n",
    "    #Adicionando no dicionario MeSH\n",
    "    \n",
    "    terms.append(\" <input type='hidden' name='ID' value='\"+d.find('.DescriptorUI').text+\"'/> \")                         \n",
    "    dictMesh[d.find('.DescriptorUI').text] = {\n",
    "        'ID': d.find('.DescriptorUI').text,\n",
    "        'name': d.find('.DescriptorName/String').text,\n",
    "        'scope': scope,\n",
    "        'terms': sorted(set(terms), reverse=True),\n",
    "        'qualifier': qualifier\n",
    "    }\n",
    "    \n",
    "#Adicionando no dicionario os termos que nja estavam nele por padrao\n",
    "    \n",
    "for dui in list(dictMesh):\n",
    "    d = dictMesh[str(dui)]\n",
    "    for t in d['terms']:\n",
    "        if not('<i>' in t):\n",
    "            indiceReverso[t.lower()] = {\n",
    "                'ID': d['ID']\n",
    "            }  \n",
    "    #break\n",
    "len(dictMesh)\n",
    "print(cont)"
   ]
  },
  {
   "cell_type": "code",
   "execution_count": null,
   "metadata": {},
   "outputs": [],
   "source": []
  },
  {
   "cell_type": "markdown",
   "metadata": {},
   "source": [
    "### Salva Dicionario"
   ]
  },
  {
   "cell_type": "code",
   "execution_count": 622,
   "metadata": {},
   "outputs": [
    {
     "data": {
      "text/plain": [
       "[('bromazepan', 0.940631091594696),\n",
       " ('aripiprazol', 0.9329935908317566),\n",
       " ('lorazepan', 0.9326410293579102),\n",
       " ('lorazepam', 0.9291593432426453),\n",
       " ('procimax', 0.9282625913619995),\n",
       " ('lexotan', 0.92816162109375),\n",
       " ('bromazepam', 0.9269586205482483),\n",
       " ('escitalopram', 0.926773726940155),\n",
       " ('fluxoetina', 0.9229224920272827),\n",
       " ('rispiridona', 0.9221132397651672)]"
      ]
     },
     "execution_count": 622,
     "metadata": {},
     "output_type": "execute_result"
    }
   ],
   "source": [
    "wordModel.most_similar_cosmul('escitalopran'.lower(),topn=10)"
   ]
  },
  {
   "cell_type": "code",
   "execution_count": 687,
   "metadata": {},
   "outputs": [
    {
     "data": {
      "text/plain": [
       "{'ID': 'D007866',\n",
       " 'name': 'Perna (Membro)[Leg]',\n",
       " 'qualifier': 'anatomy & histology',\n",
       " 'scope': 'The inferior part of the lower extremity between the KNEE and the ANKLE.',\n",
       " 'terms': ['Pernas (Membros)',\n",
       "  'Perna (Membro)',\n",
       "  'Legs',\n",
       "  'Leg',\n",
       "  \"<i> type </i> <input class='radio' type='radio' name='type' value='1'/> Certo <input class='radio' type='radio' name='type' value='0'/> Errado\",\n",
       "  \"<i> panturrilha </i> <input class='radio' type='radio' name='panturrilha' value='1'/> Certo <input class='radio' type='radio' name='panturrilha' value='0'/> Errado\",\n",
       "  \"<i> panturilha </i> <input class='radio' type='radio' name='panturilha' value='1'/> Certo <input class='radio' type='radio' name='panturilha' value='0'/> Errado\",\n",
       "  \"<i> menbros </i> <input class='radio' type='radio' name='menbros' value='1'/> Certo <input class='radio' type='radio' name='menbros' value='0'/> Errado\",\n",
       "  \"<i> menbro </i> <input class='radio' type='radio' name='menbro' value='1'/> Certo <input class='radio' type='radio' name='menbro' value='0'/> Errado\",\n",
       "  \"<i> memebros </i> <input class='radio' type='radio' name='memebros' value='1'/> Certo <input class='radio' type='radio' name='memebros' value='0'/> Errado\",\n",
       "  \"<i> memebro </i> <input class='radio' type='radio' name='memebro' value='1'/> Certo <input class='radio' type='radio' name='memebro' value='0'/> Errado\",\n",
       "  \"<i> membors </i> <input class='radio' type='radio' name='membors' value='1'/> Certo <input class='radio' type='radio' name='membors' value='0'/> Errado\",\n",
       "  \"<i> mebros </i> <input class='radio' type='radio' name='mebros' value='1'/> Certo <input class='radio' type='radio' name='mebros' value='0'/> Errado\",\n",
       "  \"<i> mebro </i> <input class='radio' type='radio' name='mebro' value='1'/> Certo <input class='radio' type='radio' name='mebro' value='0'/> Errado\",\n",
       "  \"<i> maos </i> <input class='radio' type='radio' name='maos' value='1'/> Certo <input class='radio' type='radio' name='maos' value='0'/> Errado\",\n",
       "  \"<i> mao </i> <input class='radio' type='radio' name='mao' value='1'/> Certo <input class='radio' type='radio' name='mao' value='0'/> Errado\",\n",
       "  \"<i> juntas </i> <input class='radio' type='radio' name='juntas' value='1'/> Certo <input class='radio' type='radio' name='juntas' value='0'/> Errado\",\n",
       "  \"<i> hodkin </i> <input class='radio' type='radio' name='hodkin' value='1'/> Certo <input class='radio' type='radio' name='hodkin' value='0'/> Errado\",\n",
       "  \"<i> coxa </i> <input class='radio' type='radio' name='coxa' value='1'/> Certo <input class='radio' type='radio' name='coxa' value='0'/> Errado\",\n",
       "  \"<i> costas </i> <input class='radio' type='radio' name='costas' value='1'/> Certo <input class='radio' type='radio' name='costas' value='0'/> Errado\",\n",
       "  \"<i> articulacoes </i> <input class='radio' type='radio' name='articulacoes' value='1'/> Certo <input class='radio' type='radio' name='articulacoes' value='0'/> Errado\",\n",
       "  \" <input type='hidden' name='ID' value='D007866'/> \"]}"
      ]
     },
     "execution_count": 687,
     "metadata": {},
     "output_type": "execute_result"
    }
   ],
   "source": [
    "#dictMesh['D049883']\n",
    "dictMesh['D007866']\n",
    "\n",
    "#indiceReverso['pressa _i']"
   ]
  },
  {
   "cell_type": "code",
   "execution_count": 685,
   "metadata": {},
   "outputs": [],
   "source": [
    "import gzip, pickle\n",
    "\n",
    "with gzip.open('indiceReversoPT.dict.gz','wb') as fp:\n",
    "    pickle.dump(indiceReverso,fp)\n",
    "    fp.close()"
   ]
  },
  {
   "cell_type": "code",
   "execution_count": 686,
   "metadata": {},
   "outputs": [],
   "source": [
    "import gzip, pickle\n",
    "\n",
    "with gzip.open('dictMesh.dict.gz','wb') as fp:\n",
    "    pickle.dump(dictMesh,fp)\n",
    "    fp.close()"
   ]
  },
  {
   "cell_type": "markdown",
   "metadata": {},
   "source": [
    "### Carrega Dicionario"
   ]
  },
  {
   "cell_type": "code",
   "execution_count": 513,
   "metadata": {},
   "outputs": [
    {
     "data": {
      "text/plain": [
       "{'ID': 'D000001',\n",
       " 'name': 'Calcimicina[Calcimycin]',\n",
       " 'qualifier': 'pharmacology',\n",
       " 'scope': 'An ionophorous, polyether antibiotic from Streptomyces chartreusensis. It binds and transports CALCIUM and other divalent cations across membranes and uncouples oxidative phosphorylation while inhibiting ATPase of rat liver mitochondria. The substance is used mostly as a biochemical tool to study the role of divalent cations in various biological systems.',\n",
       " 'terms': ['Calcimycin',\n",
       "  'Calcimicina',\n",
       "  'Antibiotic A23187',\n",
       "  'A23187, Antibiotic',\n",
       "  'A23187',\n",
       "  'A-23187',\n",
       "  'A 23187',\n",
       "  \" <input type='hidden' name='ID' value='D000001'/> \"]}"
      ]
     },
     "execution_count": 513,
     "metadata": {},
     "output_type": "execute_result"
    }
   ],
   "source": [
    "import gzip, pickle\n",
    "\n",
    "with gzip.open('dictMesh.dict.gz','rb') as fp:\n",
    "    dictMesh = pickle.load(fp)\n",
    "    fp.close()\n",
    "    \n",
    "dictMesh['D000001']"
   ]
  },
  {
   "cell_type": "code",
   "execution_count": 6,
   "metadata": {},
   "outputs": [
    {
     "name": "stdout",
     "output_type": "stream",
     "text": [
      "Calcimicina\n",
      "An ionophorous, polyether antibiotic from Streptomyces chartreusensis. It binds and transports CALCIUM and other divalent cations across membranes and uncouples oxidative phosphorylation while inhibiting ATPase of rat liver mitochondria. The substance is used mostly as a biochemical tool to study the role of divalent cations in various biological systems.\n"
     ]
    }
   ],
   "source": [
    "palavra = 'Calcimicina'\n",
    "for dui in dictMesh:\n",
    "    d = dictMesh[dui]\n",
    "    for t in d['terms']:\n",
    "        if t.lower() == palavra.lower():\n",
    "            print(t)\n",
    "            print(d['scope'])"
   ]
  }
 ],
 "metadata": {
  "kernelspec": {
   "display_name": "Python 3",
   "language": "python",
   "name": "python3"
  },
  "language_info": {
   "codemirror_mode": {
    "name": "ipython",
    "version": 3
   },
   "file_extension": ".py",
   "mimetype": "text/x-python",
   "name": "python",
   "nbconvert_exporter": "python",
   "pygments_lexer": "ipython3",
   "version": "3.6.5"
  }
 },
 "nbformat": 4,
 "nbformat_minor": 2
}
