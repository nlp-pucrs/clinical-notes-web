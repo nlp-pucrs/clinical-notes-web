{
 "cells": [
  {
   "cell_type": "markdown",
   "metadata": {},
   "source": [
    "### Como manipular XML com XPath"
   ]
  },
  {
   "cell_type": "code",
   "execution_count": 495,
   "metadata": {},
   "outputs": [],
   "source": [
    "from gensim.models import KeyedVectors\n",
    "import unicodedata\n",
    "\n",
    "import gzip\n",
    "import xml.etree.ElementTree as ET\n",
    "\n",
    "with gzip.open('pordesc2018.xml.gz') as pordesc2018:\n",
    "    tree = ET.parse(pordesc2018)"
   ]
  },
  {
   "cell_type": "code",
   "execution_count": 496,
   "metadata": {},
   "outputs": [],
   "source": [
    "from unicodedata import normalize\n",
    "def remover_acentos(txt):\n",
    "    return normalize('NFKD', txt).encode('ASCII', 'ignore').decode('ASCII')"
   ]
  },
  {
   "cell_type": "markdown",
   "metadata": {},
   "source": [
    "### Monta Dicionario"
   ]
  },
  {
   "cell_type": "code",
   "execution_count": 497,
   "metadata": {},
   "outputs": [
    {
     "name": "stdout",
     "output_type": "stream",
     "text": [
      "2 0.9336397171020507 0.9291593432426453\n",
      "0\n"
     ]
    }
   ],
   "source": [
    "wordModel = KeyedVectors.load_word2vec_format('health_w2v_unigram_50.bin', binary=True)\n",
    "cont = 0\n",
    "\n",
    "dictMesh = {}\n",
    "indiceReverso = {}\n",
    "for d in tree.findall(\"./DescriptorRecord\"):\n",
    "    terms = []\n",
    "    \n",
    "    qualifier = '#'\n",
    "    \n",
    "    for aql in d.findall('.AllowableQualifiersList/AllowableQualifier/QualifierReferredTo/QualifierName'):\n",
    "        teste_qualifier = aql.find('./String').text\n",
    "        if(teste_qualifier == 'anatomy & histology' or teste_qualifier == 'pharmacology' or teste_qualifier == 'methods' or teste_qualifier == 'diagnosis'):\n",
    "            qualifier = teste_qualifier\n",
    "            break\n",
    "    \n",
    "    for c in d.findall('.ConceptList/'):\n",
    "        \n",
    "        termos_similares = []\n",
    "        porc_lista = []\n",
    "        porc_medio = 0\n",
    "        \n",
    "        if c.find('./ScopeNote') != None:\n",
    "            scope = c.find('./ScopeNote').text.replace('\\n','').strip()\n",
    "        for t in c.findall('./TermList/'):            \n",
    "            terms.append(t.find('./String').text)\n",
    "            cont_porcentagem = 0\n",
    "            \n",
    "            palavra_similar = []\n",
    "            \n",
    "            if t.find('./String').text.lower() in wordModel.vocab:\n",
    "                sem_assento = remover_acentos(t.find('./String').text.lower())\n",
    "                palavra_similar = wordModel.most_similar_cosmul(sem_assento,topn=10)\n",
    "                for similar, porcentagem in palavra_similar:\n",
    "                    if(porcentagem > 0.89 and qualifier != 'pharmacology'):\n",
    "                        termos_similares.append(similar)\n",
    "                        porc_lista.append(porcentagem)\n",
    "                        porc_medio += porcentagem\n",
    "                    elif(porcentagem > 0.9 and qualifier == 'pharmacology'):\n",
    "                        termos_similares.append(similar)\n",
    "                        porc_lista.append(porcentagem)\n",
    "                        porc_medio += porcentagem\n",
    "                        \n",
    "        if(len(porc_lista) > 0):\n",
    "            porc_medio = porc_medio/(len(porc_lista))\n",
    "            \n",
    "        if(len(termos_similares) > 0):\n",
    "            for i in range(len(termos_similares)):\n",
    "                flag = -1\n",
    "                porc_maior=0\n",
    "                if not (termos_similares[i] in indiceReverso):\n",
    "                    flag = 0\n",
    "                    terms.append(\"<i> \"+termos_similares[i]+\" </i>\" + \" <input class='radio' type='radio' name='\"+termos_similares[i]+\"' value='1'/> Certo <input class='radio' type='radio' name='\"+termos_similares[i]+\"' value='0'/> Errado\")\n",
    "                \n",
    "                elif(indiceReverso[termos_similares[i]]['porc_similar'] < porc_lista[i]):\n",
    "                    flag = 1\n",
    "                    porc_maior = porc_lista[i]\n",
    "                    terms.append(\"<i> \"+termos_similares[i]+\" </i>\" + \" <input class='radio' type='radio' name='\"+termos_similares[i]+\"' value='1'/> Certo <input class='radio' type='radio' name='\"+termos_similares[i]+\"' value='0'/> Errado\")\n",
    "                \n",
    "                elif(indiceReverso[termos_similares[i]]['porc_similar'] < porc_medio \\\n",
    "                     and indiceReverso[termos_similares[i]]['porc_medio'] < porc_medio):   \n",
    "                    flag = 2\n",
    "                    porc_maior = porc_lista[i]\n",
    "                    if(termos_similares[i] == 'escitalopran' ):\n",
    "                        print (flag, porc_medio, porc_lista[i])\n",
    "                    terms.append(\"<i> \"+termos_similares[i]+\" </i>\" + \" <input class='radio' type='radio' name='\"+termos_similares[i]+\"' value='1'/> Certo <input class='radio' type='radio' name='\"+termos_similares[i]+\"' value='0'/> Errado\")\n",
    "\n",
    "                if((flag != -1) and (termos_similares[i] in indiceReverso)):\n",
    "                    ID = indiceReverso[termos_similares[i]]['ID']\n",
    "                    if(ID in  dictMesh):\n",
    "                        for t in range(len(dictMesh[ID]['terms'])-1):\n",
    "                            if '<i> '+termos_similares[i]+' </i>' in dictMesh[ID]['terms'][t]:\n",
    "                                #print(termos_similares[i])\n",
    "                                del dictMesh[ID]['terms'][t] \n",
    "                \n",
    "                if(flag != -1):                       \n",
    "                    indiceReverso[termos_similares[i]+'_i'] = {\n",
    "                        'ID': d.find('.DescriptorUI').text,\n",
    "                        'porc_similar': porc_maior,\n",
    "                        'porc_medio': porc_medio,\n",
    "                        'flag': flag\n",
    "\n",
    "                    }  \n",
    "    \n",
    "    terms.append(\" <input type='hidden' name='ID' value='\"+d.find('.DescriptorUI').text+\"'/> \")                         \n",
    "    dictMesh[d.find('.DescriptorUI').text] = {\n",
    "        'ID': d.find('.DescriptorUI').text,\n",
    "        'name': d.find('.DescriptorName/String').text,\n",
    "        'scope': scope,\n",
    "        'terms': sorted(set(terms), reverse=True),\n",
    "        'qualifier': qualifier\n",
    "    }\n",
    "    \n",
    "for dui in list(dictMesh):\n",
    "    d = dictMesh[str(dui)]\n",
    "    for t in d['terms']:\n",
    "        if not('<i>' in t):\n",
    "            indiceReverso[t.lower()] = {\n",
    "                'ID': d['ID']\n",
    "            }  \n",
    "    #break\n",
    "len(dictMesh)\n",
    "print(cont)"
   ]
  },
  {
   "cell_type": "code",
   "execution_count": null,
   "metadata": {},
   "outputs": [],
   "source": []
  },
  {
   "cell_type": "markdown",
   "metadata": {},
   "source": [
    "### Salva Dicionario"
   ]
  },
  {
   "cell_type": "code",
   "execution_count": 498,
   "metadata": {},
   "outputs": [
    {
     "data": {
      "text/plain": [
       "[('bromazepan', 0.940631091594696),\n",
       " ('aripiprazol', 0.9329935908317566),\n",
       " ('lorazepan', 0.9326410293579102),\n",
       " ('lorazepam', 0.9291593432426453),\n",
       " ('procimax', 0.9282625913619995),\n",
       " ('lexotan', 0.92816162109375),\n",
       " ('bromazepam', 0.9269586205482483),\n",
       " ('escitalopram', 0.926773726940155),\n",
       " ('fluxoetina', 0.9229224920272827),\n",
       " ('rispiridona', 0.9221132397651672)]"
      ]
     },
     "execution_count": 498,
     "metadata": {},
     "output_type": "execute_result"
    }
   ],
   "source": [
    "wordModel.most_similar_cosmul('escitalopran'.lower(),topn=10)"
   ]
  },
  {
   "cell_type": "code",
   "execution_count": 499,
   "metadata": {},
   "outputs": [
    {
     "data": {
      "text/plain": [
       "{'ID': 'D015746'}"
      ]
     },
     "execution_count": 499,
     "metadata": {},
     "output_type": "execute_result"
    }
   ],
   "source": [
    "#dictMesh['D008140']\n",
    "\n",
    "indiceReverso['dor abdominal']\n",
    "\n",
    "#dolutegravir\n",
    "\n",
    "#bupropiona\n",
    "\n",
    "#dapsona D061466 D000069454 D019438\n"
   ]
  },
  {
   "cell_type": "code",
   "execution_count": 500,
   "metadata": {},
   "outputs": [],
   "source": [
    "import gzip, pickle\n",
    "\n",
    "with gzip.open('indiceReversoPT.dict.gz','wb') as fp:\n",
    "    pickle.dump(indiceReverso,fp)\n",
    "    fp.close()"
   ]
  },
  {
   "cell_type": "code",
   "execution_count": 501,
   "metadata": {},
   "outputs": [],
   "source": [
    "import gzip, pickle\n",
    "\n",
    "with gzip.open('dictMesh.dict.gz','wb') as fp:\n",
    "    pickle.dump(dictMesh,fp)\n",
    "    fp.close()"
   ]
  },
  {
   "cell_type": "markdown",
   "metadata": {},
   "source": [
    "### Carrega Dicionario"
   ]
  },
  {
   "cell_type": "code",
   "execution_count": 502,
   "metadata": {},
   "outputs": [
    {
     "data": {
      "text/plain": [
       "{'ID': 'D000001',\n",
       " 'name': 'Calcimicina[Calcimycin]',\n",
       " 'qualifier': 'pharmacology',\n",
       " 'scope': 'An ionophorous, polyether antibiotic from Streptomyces chartreusensis. It binds and transports CALCIUM and other divalent cations across membranes and uncouples oxidative phosphorylation while inhibiting ATPase of rat liver mitochondria. The substance is used mostly as a biochemical tool to study the role of divalent cations in various biological systems.',\n",
       " 'terms': ['Calcimycin',\n",
       "  'Calcimicina',\n",
       "  'Antibiotic A23187',\n",
       "  'A23187, Antibiotic',\n",
       "  'A23187',\n",
       "  'A-23187',\n",
       "  'A 23187',\n",
       "  \" <input type='hidden' name='ID' value='D000001'/> \"]}"
      ]
     },
     "execution_count": 502,
     "metadata": {},
     "output_type": "execute_result"
    }
   ],
   "source": [
    "import gzip, pickle\n",
    "\n",
    "with gzip.open('dictMesh.dict.gz','rb') as fp:\n",
    "    dictMesh = pickle.load(fp)\n",
    "    fp.close()\n",
    "    \n",
    "dictMesh['D000001']"
   ]
  },
  {
   "cell_type": "code",
   "execution_count": 6,
   "metadata": {},
   "outputs": [
    {
     "name": "stdout",
     "output_type": "stream",
     "text": [
      "Calcimicina\n",
      "An ionophorous, polyether antibiotic from Streptomyces chartreusensis. It binds and transports CALCIUM and other divalent cations across membranes and uncouples oxidative phosphorylation while inhibiting ATPase of rat liver mitochondria. The substance is used mostly as a biochemical tool to study the role of divalent cations in various biological systems.\n"
     ]
    }
   ],
   "source": [
    "palavra = 'Calcimicina'\n",
    "for dui in dictMesh:\n",
    "    d = dictMesh[dui]\n",
    "    for t in d['terms']:\n",
    "        if t.lower() == palavra.lower():\n",
    "            print(t)\n",
    "            print(d['scope'])"
   ]
  }
 ],
 "metadata": {
  "kernelspec": {
   "display_name": "Python 3",
   "language": "python",
   "name": "python3"
  },
  "language_info": {
   "codemirror_mode": {
    "name": "ipython",
    "version": 3
   },
   "file_extension": ".py",
   "mimetype": "text/x-python",
   "name": "python",
   "nbconvert_exporter": "python",
   "pygments_lexer": "ipython3",
   "version": "3.6.5"
  }
 },
 "nbformat": 4,
 "nbformat_minor": 2
}
