{
 "cells": [
  {
   "cell_type": "markdown",
   "metadata": {},
   "source": [
    "### Como manipular XML com XPath"
   ]
  },
  {
   "cell_type": "code",
   "execution_count": 4,
   "metadata": {},
   "outputs": [],
   "source": [
    "from gensim.models import KeyedVectors\n",
    "import unicodedata\n",
    "\n",
    "import gzip\n",
    "import xml.etree.ElementTree as ET\n",
    "\n",
    "with gzip.open('pordesc2018-small.xml.gz') as pordesc2018:\n",
    "    tree = ET.parse(pordesc2018)\n",
    "    "
   ]
  },
  {
   "cell_type": "markdown",
   "metadata": {},
   "source": [
    "### Monta Dicionario"
   ]
  },
  {
   "cell_type": "code",
   "execution_count": 5,
   "metadata": {},
   "outputs": [],
   "source": [
    "from unicodedata import normalize\n",
    "def remover_acentos(txt):\n",
    "    return normalize('NFKD', txt).encode('ASCII', 'ignore').decode('ASCII')"
   ]
  },
  {
   "cell_type": "code",
   "execution_count": 13,
   "metadata": {},
   "outputs": [
    {
     "data": {
      "text/plain": [
       "1859"
      ]
     },
     "execution_count": 13,
     "metadata": {},
     "output_type": "execute_result"
    }
   ],
   "source": [
    "wordModel = KeyedVectors.load_word2vec_format('health_w2v_unigram_50.bin', binary=True)\n",
    "\n",
    "dictMesh = {}\n",
    "for d in tree.findall(\"./DescriptorRecord\"):\n",
    "    terms = []\n",
    "    \n",
    "    qualifier = '#'\n",
    "    \n",
    "    for aql in d.findall('.AllowableQualifiersList/AllowableQualifier/QualifierReferredTo/QualifierName'):\n",
    "        teste_qualifier = aql.find('./String').text\n",
    "        if(teste_qualifier == 'anatomy & histology' or teste_qualifier == 'pharmacology' or teste_qualifier == 'methods' or teste_qualifier == 'diagnosis'):\n",
    "            qualifier = teste_qualifier\n",
    "            break\n",
    "    \n",
    "    for c in d.findall('.ConceptList/'):\n",
    "        if c.find('./ScopeNote') != None:\n",
    "            scope = c.find('./ScopeNote').text.replace('\\n','').strip()\n",
    "        for t in c.findall('./TermList/'):\n",
    "            terms.append(t.find('./String').text)\n",
    "            \n",
    "            palavra_similar = []\n",
    "            \n",
    "            if t.find('./String').text.lower() in wordModel.vocab:\n",
    "                sem_assento = remover_acentos(t.find('./String').text)\n",
    "                palavra_similar = wordModel.most_similar_cosmul(sem_assento.lower(),topn=10)\n",
    "                for similar, porcentagem in palavra_similar:\n",
    "                    if(porcentagem > 0.9 and qualifier != 'pharmacology'):\n",
    "                        terms.append(\"<i>\"+similar+\"</i>\" + \" <input class='radio' type='radio' name='\"+similar+\"' value='1'/> Certo <input class='radio' type='radio' name='\"+similar+\"'' value='0'/> Errado\")\n",
    "                    elif(porcentagem > 0.95 and qualifier == 'pharmacology'):\n",
    "                        terms.append(\"<i>\"+similar+\"</i>\")\n",
    "    \n",
    "    terms.append(\" <input type='hidden' name='ID' value='\"+d.find('.DescriptorUI').text+\"'/> \")                         \n",
    "    dictMesh[d.find('.DescriptorUI').text] = {\n",
    "        'ID': d.find('.DescriptorUI').text,\n",
    "        'name': d.find('.DescriptorName/String').text,\n",
    "        'scope': scope,\n",
    "        'terms': sorted(set(terms), reverse=True),\n",
    "        'qualifier': qualifier\n",
    "    }\n",
    "                \n",
    "    #break\n",
    "len(dictMesh)"
   ]
  },
  {
   "cell_type": "markdown",
   "metadata": {},
   "source": [
    "### Imprime Exemplo"
   ]
  },
  {
   "cell_type": "code",
   "execution_count": 14,
   "metadata": {},
   "outputs": [
    {
     "data": {
      "text/plain": [
       "[\" <input type='hidden' name='ID' value='D000347'/> \",\n",
       " 'Afibrinogenemia',\n",
       " 'Afibrinogenemia',\n",
       " 'Afibrinogenemias',\n",
       " 'Deficiency, Fibrinogen',\n",
       " 'Deficiência de Fibrinogênio',\n",
       " 'Fibrinogen Deficiencies',\n",
       " 'Fibrinogen Deficiency']"
      ]
     },
     "execution_count": 14,
     "metadata": {},
     "output_type": "execute_result"
    }
   ],
   "source": [
    "sorted(terms)"
   ]
  },
  {
   "cell_type": "markdown",
   "metadata": {},
   "source": [
    "### Salva Dicionario"
   ]
  },
  {
   "cell_type": "code",
   "execution_count": 15,
   "metadata": {},
   "outputs": [],
   "source": [
    "import gzip, pickle\n",
    "\n",
    "with gzip.open('dictMesh.dict.gz','wb') as fp:\n",
    "    pickle.dump(dictMesh,fp)\n",
    "    fp.close()"
   ]
  },
  {
   "cell_type": "markdown",
   "metadata": {},
   "source": [
    "### Carrega Dicionario"
   ]
  },
  {
   "cell_type": "code",
   "execution_count": 59,
   "metadata": {},
   "outputs": [],
   "source": [
    "import gzip, pickle\n",
    "\n",
    "with gzip.open('dictMesh.dict.gz','rb') as fp:\n",
    "    dictMesh = pickle.load(fp)\n",
    "    fp.close()\n"
   ]
  },
  {
   "cell_type": "code",
   "execution_count": 30,
   "metadata": {},
   "outputs": [
    {
     "name": "stdout",
     "output_type": "stream",
     "text": [
      "9-((2-Hydroxyethoxy)methyl)guanine<br/>- Aci Sanorania<br/>- Aci-Sanorania<br/>- Acic<br/>- Aciclobeta<br/>- Acicloguanosina<br/>- Aciclostad<br/>- Aciclovir<br/>- Aciclovir<br/>- Aciclovir Alonga<br/>- Aciclovir Sanorania<br/>- Aciclovir-Sanorania<br/>- Acifur<br/>- Acipen Solutab<br/>- Acivir<br/>- Activir<br/>- Acyclo V<br/>- Acyclo-V<br/>- Acycloguanosine<br/>- Acyclovir<br/>- Acyclovir Sodium<br/>- Alonga, Aciclovir<br/>- Antiherpes Creme<br/>- Avirax<br/>- Cicloferon<br/>- Clonorax<br/>- Cusiviral<br/>- Genvir<br/>- Herpetad<br/>- Herpofug<br/>- Herpotern<br/>- Herpoviric<br/>- Isavir<br/>- Laciken<br/>- Mapox<br/>- Maynar<br/>- Milavir<br/>- Opthavir<br/>- Sodium, Acyclovir<br/>- Solutab, Acipen<br/>- Supraviran<br/>- Viclovir<br/>- Vipral<br/>- Virax Puren<br/>- Virax-Puren<br/>- ViraxPuren<br/>- Virherpes<br/>- Virmen<br/>- Virolex<br/>- Virupos<br/>- Virzin<br/>- Wellcome 248U<br/>- Wellcome-248U<br/>- Wellcome248U<br/>- Zoliparin<br/>- Zovirax<br/>- Zyclir<br/>- aciclovir von ct\n"
     ]
    }
   ],
   "source": [
    "evolucao = 'Wellcome 248U'\n",
    "evolucao = evolucao.split(' ')\n",
    "for i, palavra in enumerate(evolucao):\n",
    "\n",
    "    ## Busca palavra no Mesh\n",
    "    for dui in dictMesh:\n",
    "        d = dictMesh[dui]\n",
    "        for t in d['terms']:\n",
    "            new_t = t.replace('<i>', '')\n",
    "            new_t = new_t.replace('</i>', '')\n",
    "\n",
    "            if i+1 < (len(evolucao)) and palavra.lower()+\" \"+evolucao[i+1].lower() == new_t.lower():\n",
    "                    teste = dictMesh[dui]['terms']\n",
    "                    termos = '<br/>- '.join(teste)\n",
    "                    print(termos)\n",
    "                    break\n",
    "            elif new_t.lower() == palavra.lower():\n",
    "                teste = dictMesh[dui]['terms']\n",
    "                termos = '<br/>- '.join(teste)"
   ]
  },
  {
   "cell_type": "code",
   "execution_count": 27,
   "metadata": {},
   "outputs": [
    {
     "data": {
      "text/plain": [
       "'Fibrinogen Deficiency Deficiência de Fibrinogênio Fibrinogen Deficiencies Afibrinogenemia Afibrinogenemias Deficiency, Fibrinogen'"
      ]
     },
     "execution_count": 27,
     "metadata": {},
     "output_type": "execute_result"
    }
   ],
   "source": [
    "termos=\" \"\n",
    "confirma = False\n",
    "evolucao = \"abd\"\n",
    "strr = \"\"\n",
    "\n",
    "#Verifica a lista para ver se a palavra esta no dicionario\n",
    "cont = 0\n",
    "for palavra in evolucao:\n",
    "    for dui in dictMesh:\n",
    "        d = dictMesh[dui]\n",
    "        for t in d['terms']:\n",
    "            if t.lower() == palavra.lower():\n",
    "                evolucao[cont] = '<a href=\"#\" data-ui=\"das\" data-term=\"\" data-scope=\"'+d['scope']+'\">'+palavra+'</a>'\n",
    "                cont +=1\n",
    "\n",
    "    teste = dictMesh[dui]['terms']\n",
    "    termos = ' '.join(teste)\n",
    "evolucao = evolucao.replace('data-terms=\"\"', 'data-terms=\"'+termos+'\"')#pegar os termos da lista e por aqui\n",
    "strr += ' '+evolucao\n",
    "\n",
    "#print(termos)\n",
    "termos"
   ]
  },
  {
   "cell_type": "code",
   "execution_count": 1,
   "metadata": {},
   "outputs": [
    {
     "ename": "NameError",
     "evalue": "name 'dictMesh' is not defined",
     "output_type": "error",
     "traceback": [
      "\u001b[0;31m---------------------------------------------------------------------------\u001b[0m",
      "\u001b[0;31mNameError\u001b[0m                                 Traceback (most recent call last)",
      "\u001b[0;32m<ipython-input-1-c66c3e3d034e>\u001b[0m in \u001b[0;36m<module>\u001b[0;34m()\u001b[0m\n\u001b[0;32m----> 1\u001b[0;31m \u001b[0mdictMesh\u001b[0m\u001b[0;34m\u001b[0m\u001b[0m\n\u001b[0m",
      "\u001b[0;31mNameError\u001b[0m: name 'dictMesh' is not defined"
     ]
    }
   ],
   "source": [
    "dictMesh"
   ]
  },
  {
   "cell_type": "code",
   "execution_count": 69,
   "metadata": {},
   "outputs": [
    {
     "data": {
      "text/plain": [
       "{'adomen': {'ID': 'D000005', 'target': '1'},\n",
       " 'adbome': {'ID': 'D000005', 'target': '1'},\n",
       " 'abm': {'ID': 'D000005', 'target': '0'},\n",
       " 'abdome': {'ID': 'D000005', 'target': '1'},\n",
       " 'abd': {'ID': 'D000005', 'target': '0'}}"
      ]
     },
     "execution_count": 69,
     "metadata": {},
     "output_type": "execute_result"
    }
   ],
   "source": [
    "import gzip, pickle\n",
    "with gzip.open(\"dictValida.dict.gz\",'rb') as fd:\n",
    "    dicValida = pickle.load(fd)\n",
    "    fd.close()\n",
    "    \n",
    "dicValida"
   ]
  },
  {
   "cell_type": "code",
   "execution_count": 71,
   "metadata": {},
   "outputs": [
    {
     "data": {
      "text/plain": [
       "'1'"
      ]
     },
     "execution_count": 71,
     "metadata": {},
     "output_type": "execute_result"
    }
   ],
   "source": [
    "dicValida['adomen']['target']"
   ]
  },
  {
   "cell_type": "code",
   "execution_count": 48,
   "metadata": {},
   "outputs": [
    {
     "name": "stdout",
     "output_type": "stream",
     "text": [
      "1\n",
      "2\n"
     ]
    }
   ],
   "source": [
    "serial = \"meu 1 - nome 2- e 3-Rafael 4 - \"\n",
    "\n",
    "posicoes = serial.split('-')\n",
    "\n",
    "if 'Rafael' in serial:\n",
    "    print('1')\n",
    "    for palavra in posicoes:\n",
    "        if 'Rafael' in  palavra:\n",
    "            val_valida =  palavra[-1]\n",
    "            print('2')"
   ]
  },
  {
   "cell_type": "code",
   "execution_count": null,
   "metadata": {},
   "outputs": [],
   "source": []
  }
 ],
 "metadata": {
  "kernelspec": {
   "display_name": "Python 3",
   "language": "python",
   "name": "python3"
  },
  "language_info": {
   "codemirror_mode": {
    "name": "ipython",
    "version": 3
   },
   "file_extension": ".py",
   "mimetype": "text/x-python",
   "name": "python",
   "nbconvert_exporter": "python",
   "pygments_lexer": "ipython3",
   "version": "3.6.3"
  }
 },
 "nbformat": 4,
 "nbformat_minor": 2
}
