{
 "cells": [
  {
   "cell_type": "markdown",
   "metadata": {},
   "source": [
    "### Como manipular XML com XPath"
   ]
  },
  {
   "cell_type": "code",
   "execution_count": 4,
   "metadata": {},
   "outputs": [],
   "source": [
    "from gensim.models import KeyedVectors\n",
    "import unicodedata\n",
    "\n",
    "import gzip\n",
    "import xml.etree.ElementTree as ET\n",
    "\n",
    "with gzip.open('pordesc2018-small.xml.gz') as pordesc2018:\n",
    "    tree = ET.parse(pordesc2018)\n",
    "    "
   ]
  },
  {
   "cell_type": "markdown",
   "metadata": {},
   "source": [
    "### Monta Dicionario"
   ]
  },
  {
   "cell_type": "code",
   "execution_count": 5,
   "metadata": {},
   "outputs": [],
   "source": [
    "4from unicodedata import normalize\n",
    "def remover_acentos(txt):\n",
    "    return normalize('NFKD', txt).encode('ASCII', 'ignore').decode('ASCII')"
   ]
  },
  {
   "cell_type": "code",
   "execution_count": 13,
   "metadata": {},
   "outputs": [
    {
     "data": {
      "text/plain": [
       "1859"
      ]
     },
     "execution_count": 13,
     "metadata": {},
     "output_type": "execute_result"
    }
   ],
   "source": [
    "wordModel = KeyedVectors.load_word2vec_format('health_w2v_unigram_50.bin', binary=True)\n",
    "\n",
    "dictMesh = {}\n",
    "for d in tree.findall(\"./DescriptorRecord\"):\n",
    "    terms = []\n",
    "    \n",
    "    qualifier = '#'\n",
    "    \n",
    "    for aql in d.findall('.AllowableQualifiersList/AllowableQualifier/QualifierReferredTo/QualifierName'):\n",
    "        teste_qualifier = aql.find('./String').text\n",
    "        if(teste_qualifier == 'anatomy & histology' or teste_qualifier == 'pharmacology' or teste_qualifier == 'methods' or teste_qualifier == 'diagnosis'):\n",
    "            qualifier = teste_qualifier\n",
    "            break\n",
    "    \n",
    "    for c in d.findall('.ConceptList/'):\n",
    "        if c.find('./ScopeNote') != None:\n",
    "            scope = c.find('./ScopeNote').text.replace('\\n','').strip()\n",
    "        for t in c.findall('./TermList/'):\n",
    "            terms.append(t.find('./String').text)\n",
    "            \n",
    "            palavra_similar = []\n",
    "            \n",
    "            if t.find('./String').text.lower() in wordModel.vocab:\n",
    "                sem_assento = remover_acentos(t.find('./String').text)\n",
    "                palavra_similar = wordModel.most_similar_cosmul(sem_assento.lower(),topn=10)\n",
    "                for similar, porcentagem in palavra_similar:\n",
    "                    if(porcentagem > 0.9 and qualifier != 'pharmacology'):\n",
    "                        terms.append(\"<i>\"+similar+\"</i>\" + \" <input class='radio' type='radio' name='\"+similar+\"' value='1'/> Certo <input class='radio' type='radio' name='\"+similar+\"'' value='0'/> Errado\")\n",
    "                    elif(porcentagem > 0.95 and qualifier == 'pharmacology'):\n",
    "                        terms.append(\"<i>\"+similar+\"</i>\")\n",
    "    \n",
    "    terms.append(\" <input type='hidden' name='ID' value='\"+d.find('.DescriptorUI').text+\"'/> \")                         \n",
    "    dictMesh[d.find('.DescriptorUI').text] = {\n",
    "        'ID': d.find('.DescriptorUI').text,\n",
    "        'name': d.find('.DescriptorName/String').text,\n",
    "        'scope': scope,\n",
    "        'terms': sorted(set(terms), reverse=True),\n",
    "        'qualifier': qualifier\n",
    "    }\n",
    "                \n",
    "    #break\n",
    "len(dictMesh)"
   ]
  },
  {
   "cell_type": "markdown",
   "metadata": {},
   "source": [
    "### Imprime Exemplo"
   ]
  },
  {
   "cell_type": "code",
   "execution_count": 14,
   "metadata": {
    "scrolled": true
   },
   "outputs": [
    {
     "data": {
      "text/plain": [
       "[\" <input type='hidden' name='ID' value='D000347'/> \",\n",
       " 'Afibrinogenemia',\n",
       " 'Afibrinogenemia',\n",
       " 'Afibrinogenemias',\n",
       " 'Deficiency, Fibrinogen',\n",
       " 'Deficiência de Fibrinogênio',\n",
       " 'Fibrinogen Deficiencies',\n",
       " 'Fibrinogen Deficiency']"
      ]
     },
     "execution_count": 14,
     "metadata": {},
     "output_type": "execute_result"
    }
   ],
   "source": [
    "sorted(terms)"
   ]
  },
  {
   "cell_type": "markdown",
   "metadata": {},
   "source": [
    "### Salva Dicionario"
   ]
  },
  {
   "cell_type": "code",
   "execution_count": 15,
   "metadata": {},
   "outputs": [],
   "source": [
    "import gzip, pickle\n",
    "\n",
    "with gzip.open('dictMesh.dict.gz','wb') as fp:\n",
    "    pickle.dump(dictMesh,fp)\n",
    "    fp.close()"
   ]
  },
  {
   "cell_type": "markdown",
   "metadata": {},
   "source": [
    "### Carrega Dicionario"
   ]
  },
  {
   "cell_type": "code",
   "execution_count": 59,
   "metadata": {},
   "outputs": [],
   "source": [
    "import gzip, pickle\n",
    "\n",
    "with gzip.open('dictMesh.dict.gz','rb') as fp:\n",
    "    dictMesh = pickle.load(fp)\n",
    "    fp.close()\n"
   ]
  },
  {
   "cell_type": "code",
   "execution_count": 30,
   "metadata": {},
   "outputs": [
    {
     "name": "stdout",
     "output_type": "stream",
     "text": [
      "9-((2-Hydroxyethoxy)methyl)guanine<br/>- Aci Sanorania<br/>- Aci-Sanorania<br/>- Acic<br/>- Aciclobeta<br/>- Acicloguanosina<br/>- Aciclostad<br/>- Aciclovir<br/>- Aciclovir<br/>- Aciclovir Alonga<br/>- Aciclovir Sanorania<br/>- Aciclovir-Sanorania<br/>- Acifur<br/>- Acipen Solutab<br/>- Acivir<br/>- Activir<br/>- Acyclo V<br/>- Acyclo-V<br/>- Acycloguanosine<br/>- Acyclovir<br/>- Acyclovir Sodium<br/>- Alonga, Aciclovir<br/>- Antiherpes Creme<br/>- Avirax<br/>- Cicloferon<br/>- Clonorax<br/>- Cusiviral<br/>- Genvir<br/>- Herpetad<br/>- Herpofug<br/>- Herpotern<br/>- Herpoviric<br/>- Isavir<br/>- Laciken<br/>- Mapox<br/>- Maynar<br/>- Milavir<br/>- Opthavir<br/>- Sodium, Acyclovir<br/>- Solutab, Acipen<br/>- Supraviran<br/>- Viclovir<br/>- Vipral<br/>- Virax Puren<br/>- Virax-Puren<br/>- ViraxPuren<br/>- Virherpes<br/>- Virmen<br/>- Virolex<br/>- Virupos<br/>- Virzin<br/>- Wellcome 248U<br/>- Wellcome-248U<br/>- Wellcome248U<br/>- Zoliparin<br/>- Zovirax<br/>- Zyclir<br/>- aciclovir von ct\n"
     ]
    }
   ],
   "source": [
    "evolucao = 'Wellcome 248U'\n",
    "evolucao = evolucao.split(' ')\n",
    "for i, palavra in enumerate(evolucao):\n",
    "\n",
    "    ## Busca palavra no Mesh\n",
    "    for dui in dictMesh:\n",
    "        d = dictMesh[dui]\n",
    "        for t in d['terms']:\n",
    "            new_t = t.replace('<i>', '')\n",
    "            new_t = new_t.replace('</i>', '')\n",
    "\n",
    "            if i+1 < (len(evolucao)) and palavra.lower()+\" \"+evolucao[i+1].lower() == new_t.lower():\n",
    "                    teste = dictMesh[dui]['terms']\n",
    "                    termos = '<br/>- '.join(teste)\n",
    "                    print(termos)\n",
    "                    break\n",
    "            elif new_t.lower() == palavra.lower():\n",
    "                teste = dictMesh[dui]['terms']\n",
    "                termos = '<br/>- '.join(teste)"
   ]
  },
  {
   "cell_type": "code",
   "execution_count": 27,
   "metadata": {},
   "outputs": [
    {
     "data": {
      "text/plain": [
       "'Fibrinogen Deficiency Deficiência de Fibrinogênio Fibrinogen Deficiencies Afibrinogenemia Afibrinogenemias Deficiency, Fibrinogen'"
      ]
     },
     "execution_count": 27,
     "metadata": {},
     "output_type": "execute_result"
    }
   ],
   "source": [
    "termos=\" \"\n",
    "confirma = False\n",
    "evolucao = \"abd\"\n",
    "strr = \"\"\n",
    "\n",
    "#Verifica a lista para ver se a palavra esta no dicionario\n",
    "cont = 0\n",
    "for palavra in evolucao:\n",
    "    for dui in dictMesh:\n",
    "        d = dictMesh[dui]\n",
    "        for t in d['terms']:\n",
    "            if t.lower() == palavra.lower():\n",
    "                evolucao[cont] = '<a href=\"#\" data-ui=\"das\" data-term=\"\" data-scope=\"'+d['scope']+'\">'+palavra+'</a>'\n",
    "                cont +=1\n",
    "\n",
    "    teste = dictMesh[dui]['terms']\n",
    "    termos = ' '.join(teste)\n",
    "evolucao = evolucao.replace('data-terms=\"\"', 'data-terms=\"'+termos+'\"')#pegar os termos da lista e por aqui\n",
    "strr += ' '+evolucao\n",
    "\n",
    "#print(termos)\n",
    "termos"
   ]
  },
  {
   "cell_type": "code",
   "execution_count": 40,
   "metadata": {},
   "outputs": [
    {
     "ename": "NameError",
     "evalue": "name 'dictMesh' is not defined",
     "output_type": "error",
     "traceback": [
      "\u001b[0;31m---------------------------------------------------------------------------\u001b[0m",
      "\u001b[0;31mNameError\u001b[0m                                 Traceback (most recent call last)",
      "\u001b[0;32m<ipython-input-40-c66c3e3d034e>\u001b[0m in \u001b[0;36m<module>\u001b[0;34m()\u001b[0m\n\u001b[0;32m----> 1\u001b[0;31m \u001b[0mdictMesh\u001b[0m\u001b[0;34m\u001b[0m\u001b[0m\n\u001b[0m",
      "\u001b[0;31mNameError\u001b[0m: name 'dictMesh' is not defined"
     ]
    }
   ],
   "source": [
    "dictMesh"
   ]
  },
  {
   "cell_type": "code",
   "execution_count": 15,
   "metadata": {
    "scrolled": true
   },
   "outputs": [],
   "source": [
    "import gzip, pickle\n",
    "with gzip.open(\"dictValida.dict.gz\",'rb') as fd:\n",
    "    dictValida = pickle.load(fd)\n",
    "    fd.close()"
   ]
  },
  {
   "cell_type": "code",
   "execution_count": 16,
   "metadata": {},
   "outputs": [
    {
     "name": "stdout",
     "output_type": "stream",
     "text": [
      "Termos novos adicionados: 6186\n",
      "\n",
      "Definicoes enriquecidas: 1440\n",
      "Definicoes: 28939\n",
      "Definicoes avaliadas - anatomy: 38\n",
      "Definicoes avaliadas - methods: 70\n",
      "Definicoes avaliadas - diagnosis: 60\n",
      "Definicoes avaliadas - pharmacology: 38\n",
      "Definicoes avaliadas - outros: 83\n",
      "\n",
      "Termos originais: 336721\n",
      "Termos semelhantes avaliados: 289\n",
      "Termos semelhantes certos: 153\n",
      "Termos semelhantes certos - anatomy: 17\n",
      "Termos semelhantes certos - methods: 41\n",
      "Termos semelhantes certos - diagnosis: 39\n",
      "Termos semelhantes certos - pharmacology: 17\n",
      "Termos semelhantes certos - outros: 39\n",
      "\n",
      "Porcentagem termos semelhantes certos - totais: 52.94117647058823\n",
      "Porcentagem termos semelhantes certos - anatomy: 44.73684210526316\n",
      "Porcentagem termos semelhantes certos - methods: 58.57142857142857\n",
      "Porcentagem termos semelhantes certos - diagnosis: 65.0\n",
      "Porcentagem termos semelhantes certos - pharmacology: 44.73684210526316\n",
      "Porcentagem termos semelhantes certos - outros: 46.98795180722892\n"
     ]
    }
   ],
   "source": [
    "import gzip, pickle\n",
    "\n",
    "with gzip.open('dictMesh.dict.gz','rb') as fp:\n",
    "    dictMesh = pickle.load(fp)\n",
    "    fp.close()\n",
    "cont_adicionados = 0\n",
    "cont_def_enriquecidas = 0\n",
    "cont_def = 0\n",
    "cont_anatomy = 0 \n",
    "cont_methods=0\n",
    "cont_diagnosis=0\n",
    "cont_pharmacology=0\n",
    "cont_other=0\n",
    "cont_originais=0\n",
    "cont_certo_valida=0\n",
    "cont_certo_anatomy = 0 \n",
    "cont_certo_methods=0\n",
    "cont_certo_diagnosis=0\n",
    "cont_certo_pharmacology=0\n",
    "cont_certo_other=0\n",
    "cont_avaliados = 0\n",
    "\n",
    "#Termos novos adicionados\n",
    "\n",
    "for dui in dictMesh:\n",
    "    d = dictMesh[dui]\n",
    "    for t in d['terms']:\n",
    "        if('<i>' in t):\n",
    "            cont_adicionados +=1\n",
    "            \n",
    "print(\"Termos novos adicionados: \"+str(cont_adicionados))\n",
    "\n",
    "#Definicoes enriquecidas\n",
    "for dui in dictMesh:\n",
    "    d = dictMesh[dui]\n",
    "    for t in d['terms']:\n",
    "        if('<i>' in t):\n",
    "            cont_def_enriquecidas +=1\n",
    "            break\n",
    "\n",
    "print(\"\\nDefinicoes enriquecidas: \"+str(cont_def_enriquecidas))\n",
    "\n",
    "#Definicoes\n",
    "for dui in dictMesh:\n",
    "    cont_def +=1\n",
    "    \n",
    "print(\"Definicoes: \"+str(cont_def))\n",
    "\n",
    "#Definicoes por categoria\n",
    "\"\"\"for dui in dictMesh:\n",
    "    d = dictMesh[dui]\n",
    "    if(d['qualifier'] == 'anatomy & histology'):\n",
    "        cont_anatomy +=1\n",
    "    elif(d['qualifier'] == 'methods'):\n",
    "        cont_methods +=1\n",
    "    elif(d['qualifier'] == 'diagnosis'):\n",
    "        cont_diagnosis +=1\n",
    "    elif(d['qualifier'] == 'pharmacology'):\n",
    "        cont_pharmacology +=1\n",
    "    else:\n",
    "        cont_other +=1\n",
    "        \n",
    "print(\"Definicoes - anatomy: \"+str(cont_anatomy))\n",
    "print(\"Definicoes - methods: \"+str(cont_methods))\n",
    "print(\"Definicoes - diagnosis: \"+str(cont_diagnosis))\n",
    "print(\"Definicoes - pharmacology: \"+str(cont_pharmacology))\n",
    "print(\"Definicoes - outros: \"+str(cont_other))\"\"\"\n",
    "\n",
    "#Definicoes por categoria\n",
    "\n",
    "for t in dictValida:\n",
    "    if(dictMesh[dictValida[t]['ID']]['qualifier'] == 'anatomy & histology'):\n",
    "        cont_anatomy +=1\n",
    "    if(dictMesh[dictValida[t]['ID']]['qualifier'] == 'methods'):\n",
    "        cont_methods +=1\n",
    "    if(dictMesh[dictValida[t]['ID']]['qualifier'] == 'diagnosis'):\n",
    "        cont_diagnosis +=1\n",
    "    if(dictMesh[dictValida[t]['ID']]['qualifier'] == 'pharmacology'):\n",
    "        cont_pharmacology +=1\n",
    "    if(dictMesh[dictValida[t]['ID']]['qualifier'] == '#'):\n",
    "        cont_other +=1\n",
    "\n",
    "print(\"Definicoes avaliadas - anatomy: \"+str(cont_anatomy))\n",
    "print(\"Definicoes avaliadas - methods: \"+str(cont_methods))\n",
    "print(\"Definicoes avaliadas - diagnosis: \"+str(cont_diagnosis))\n",
    "print(\"Definicoes avaliadas - pharmacology: \"+str(cont_pharmacology))\n",
    "print(\"Definicoes avaliadas - outros: \"+str(cont_other))\n",
    "\n",
    "        \n",
    "#Termos originais\n",
    "\n",
    "for dui in dictMesh:\n",
    "    d = dictMesh[dui]\n",
    "    for t in d['terms']:\n",
    "        if not('<i>' in t):\n",
    "            cont_originais +=1\n",
    "\n",
    "print(\"\\nTermos originais: \"+str(cont_originais))\n",
    "\n",
    "import gzip, pickle\n",
    "with gzip.open(\"dictValida.dict.gz\",'rb') as fd:\n",
    "    dictValida = pickle.load(fd)\n",
    "    fd.close()\n",
    "\n",
    "#Termos semelhantes certos    \n",
    "\n",
    "for t in dictValida:\n",
    "    cont_avaliados += 1\n",
    "\n",
    "print(\"Termos semelhantes avaliados: \"+str(cont_avaliados))   \n",
    "\n",
    "for t in dictValida:\n",
    "    if(dictValida[t]['target'] == '1'):\n",
    "        cont_certo_valida +=1\n",
    "\n",
    "print(\"Termos semelhantes certos: \"+str(cont_certo_valida))   \n",
    "\n",
    "for t in dictValida:\n",
    "    if(dictValida[t]['target'] == '1'):\n",
    "        if(dictMesh[dictValida[t]['ID']]['qualifier'] == 'anatomy & histology'):\n",
    "            cont_certo_anatomy +=1\n",
    "        if(dictMesh[dictValida[t]['ID']]['qualifier'] == 'methods'):\n",
    "            cont_certo_methods +=1\n",
    "        if(dictMesh[dictValida[t]['ID']]['qualifier'] == 'diagnosis'):\n",
    "            cont_certo_diagnosis +=1\n",
    "        if(dictMesh[dictValida[t]['ID']]['qualifier'] == 'pharmacology'):\n",
    "            cont_certo_pharmacology +=1\n",
    "        if(dictMesh[dictValida[t]['ID']]['qualifier'] == '#'):\n",
    "            cont_certo_other +=1\n",
    "\n",
    "        \n",
    "print(\"Termos semelhantes certos - anatomy: \"+str(cont_certo_anatomy))\n",
    "print(\"Termos semelhantes certos - methods: \"+str(cont_certo_methods))\n",
    "print(\"Termos semelhantes certos - diagnosis: \"+str(cont_certo_diagnosis))\n",
    "print(\"Termos semelhantes certos - pharmacology: \"+str(cont_certo_pharmacology))\n",
    "print(\"Termos semelhantes certos - outros: \"+str(cont_certo_other))\n",
    "\n",
    "porcent_anatomy = (cont_certo_anatomy*100)/cont_anatomy\n",
    "porcent_methods = (cont_certo_methods*100)/cont_methods\n",
    "porcent_diagnosis = (cont_certo_diagnosis*100)/cont_diagnosis\n",
    "porcent_pharmacology = (cont_certo_pharmacology*100)/cont_pharmacology\n",
    "porcent_other = (cont_certo_other*100)/cont_other\n",
    "porcent_total = (cont_certo_valida*100)/cont_avaliados\n",
    "\n",
    "print(\"\\nPorcentagem termos semelhantes certos - totais: \"+str(porcent_total ))\n",
    "print(\"Porcentagem termos semelhantes certos - anatomy: \"+str(porcent_anatomy ))\n",
    "print(\"Porcentagem termos semelhantes certos - methods: \"+str(porcent_methods))\n",
    "print(\"Porcentagem termos semelhantes certos - diagnosis: \"+str(porcent_diagnosis))\n",
    "print(\"Porcentagem termos semelhantes certos - pharmacology: \"+str(porcent_pharmacology))\n",
    "print(\"Porcentagem termos semelhantes certos - outros: \"+str(porcent_other))"
   ]
  },
  {
   "cell_type": "code",
   "execution_count": null,
   "metadata": {},
   "outputs": [],
   "source": []
  },
  {
   "cell_type": "code",
   "execution_count": null,
   "metadata": {},
   "outputs": [],
   "source": []
  }
 ],
 "metadata": {
  "kernelspec": {
   "display_name": "Python 3",
   "language": "python",
   "name": "python3"
  },
  "language_info": {
   "codemirror_mode": {
    "name": "ipython",
    "version": 3
   },
   "file_extension": ".py",
   "mimetype": "text/x-python",
   "name": "python",
   "nbconvert_exporter": "python",
   "pygments_lexer": "ipython3",
   "version": "3.6.3"
  }
 },
 "nbformat": 4,
 "nbformat_minor": 2
}
