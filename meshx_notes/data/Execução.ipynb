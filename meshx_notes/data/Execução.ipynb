{
 "cells": [
  {
   "cell_type": "markdown",
   "metadata": {},
   "source": [
    "# Geração\n",
    "\n",
    "## Pré-processamento\n",
    "\n",
    "\n",
    "Primeiramente, criamos o objeto dicionário com os seguintes parâmetros:\n",
    "\n",
    "- xmlMesh: parâmetro obrigatório em que será posto o caminho para o xml que deseja ser utilizado;\n",
    "- wordEmbedding: parâmetro obrigatório em que será posto o caminho para o Word Embedding que deseja ser utilizado;\n",
    "- Idioma: selecionar o idioma desejado, como \"por\" para português e \"en\" para inglês;\n",
    "- porcent_diagnosis: parâmetro opcional em que será posto o mínimo de similaridade que os termos – de qualifier diagnosis – devem ter com o original,  por padrão é iniciado com 9.0;\n",
    "- porcent_anatomy: parâmetro opcional em que será posto o mínimo de similaridade que os termos – de qualifier anatomy – devem ter com o original,  por padrão é iniciado com 9.0;\n",
    "- porcent_pharmacology: parâmetro opcional em que será posto o mínimo de similaridade que os termos – de qualifier pharmacology – devem ter com o original,  por padrão é iniciado com 9.3;\n",
    "- porcent_other: parâmetro opcional em que será posto o mínimo de similaridade que os termos – de qualifier other – devem ter com o original – por padrão é iniciado com 9.0;\n",
    "- \\_topn: quantidade de termos o Word Embedding irá utilizar como termos similares;\n",
    "- printTime: parâmetro opcional em que se escolhe se deseja saber o tempo de execução das funções com verdadeiro ou falso, por padrão é iniciado com falso. "
   ]
  },
  {
   "cell_type": "code",
   "execution_count": 1,
   "metadata": {
    "scrolled": false
   },
   "outputs": [],
   "source": [
    "from Dicionarios import Dicionarios\n",
    "\n",
    "Dicionario = Dicionarios(\n",
    "        xmlMesh='pordesc2018.xml.gz', \n",
    "        wordEmbedding='health_w2v_unigram_50.bin',\n",
    "        idioma = \"por\",\n",
    "        porcent_methods = 0.89,\n",
    "        porcent_diagnosis = 0.89,\n",
    "        porcent_anatomy = 0.89,\n",
    "        porcent_other=0.89, \n",
    "        porcent_pharmacology=9.0,\n",
    "        _topn = 10,\n",
    "        printTime = True\n",
    "    \n",
    ")"
   ]
  },
  {
   "cell_type": "markdown",
   "metadata": {},
   "source": [
    "# Execução\n",
    "\n",
    "\n",
    "Inicia-se com a função _run()_, caso tenha iniciado _printTime_ com True, então deverá utilizar quatro variáveis para que obtenha, respectivamente, o tempo de obtenção do qualifier, adicionar o termo no indice reverso, selecionar os termos no dicionario e adicionar os termos no dicionário.\n",
    "\n",
    "Após isso, com a função _salvaIndiceReverso()_ podemos salvar o indice reverso em um arquivo, o qual o caminho deste deve ser passado por parâmetro. A função _salvaDictMesh()_ salva o dicionário Mesh em um arquivo que também deve ser passado por parâmetro o seu caminho."
   ]
  },
  {
   "cell_type": "code",
   "execution_count": 2,
   "metadata": {},
   "outputs": [
    {
     "name": "stdout",
     "output_type": "stream",
     "text": [
      "0.00014 0.0 0.00051 2e-05\n"
     ]
    }
   ],
   "source": [
    "qualifier, add_indice, time_seleciona_TermosMesh, time_add_Mesh = Dicionario.run()\n",
    "Dicionario.salvaIndiceReverso('indiceReversoPT.dict.gz')\n",
    "Dicionario.salvaDictMesh('dictMesh_.dict.gz')\n",
    "\n",
    "print(qualifier, add_indice, time_seleciona_TermosMesh, time_add_Mesh)"
   ]
  },
  {
   "cell_type": "markdown",
   "metadata": {},
   "source": [
    "Com a função carrega_Dicionario() é possível utilizar um dicionário já armazenado previamente.\n",
    "\n",
    "A função carrega_IndiceReverso() é semelhante, mas nesta temos o armazenamento do Indice Reverso."
   ]
  },
  {
   "cell_type": "code",
   "execution_count": 3,
   "metadata": {},
   "outputs": [],
   "source": [
    "Dicionario.salvaIndiceReverso('indiceReversoPT.dict.gz')\n",
    "Dicionario.salvaDictMesh('dictMesh_.dict.gz')"
   ]
  },
  {
   "cell_type": "code",
   "execution_count": 4,
   "metadata": {},
   "outputs": [],
   "source": [
    "Dicionario.carrega_Dicionario('dictMesh_.dict.gz')\n",
    "Dicionario.carrega_IndiceReverso('indiceReversoPT.dict.gz')"
   ]
  },
  {
   "cell_type": "markdown",
   "metadata": {},
   "source": [
    "É possível visualizar as informações do Índice Rerverso com o comando abaixo:\n",
    "\n",
    "- Para acessar o Índice Reverso do termo somente é necessário pô-lo.\n",
    "- \" \\_i\" ao fim dos termos que foram adicionados e que não estavam por padrão no dicionário."
   ]
  },
  {
   "cell_type": "code",
   "execution_count": 9,
   "metadata": {},
   "outputs": [
    {
     "data": {
      "text/plain": [
       "{'ID': 'D000855'}"
      ]
     },
     "execution_count": 9,
     "metadata": {},
     "output_type": "execute_result"
    }
   ],
   "source": [
    "Dicionario.indiceReverso['anorexia']"
   ]
  },
  {
   "cell_type": "code",
   "execution_count": 6,
   "metadata": {
    "scrolled": true
   },
   "outputs": [
    {
     "data": {
      "text/plain": [
       "{'ID': 'D014005'}"
      ]
     },
     "execution_count": 6,
     "metadata": {},
     "output_type": "execute_result"
    }
   ],
   "source": [
    "Dicionario.indiceReverso['tinham _i']"
   ]
  },
  {
   "cell_type": "markdown",
   "metadata": {},
   "source": [
    "É possível visualizar as informações do Dicionário com o comando abaixo:\n",
    "\n",
    "- Para acessar o termo desejado é necessário por seu ID."
   ]
  },
  {
   "cell_type": "code",
   "execution_count": 10,
   "metadata": {
    "scrolled": true
   },
   "outputs": [
    {
     "data": {
      "text/plain": [
       "{'ID': 'D000855',\n",
       " 'name': 'anorexia[anorexia]',\n",
       " 'qualifier': 'diagnosis',\n",
       " 'scope': 'The lack or loss of APPETITE accompanied by an aversion to food and the inability to eat. It is the defining characteristic of the disorder ANOREXIA NERVOSA.',\n",
       " 'terms': ['Anorexia',\n",
       "  \"<i>prostracao</i> <span class = 'valida'><input class='radio' type='radio' name='prostracao' value='1'/> Certo <input class='radio' type='radio' name='prostracao'' value='0'/> Errado</span>\",\n",
       "  \"<i>prostacao</i> <span class = 'valida'><input class='radio' type='radio' name='prostacao' value='1'/> Certo <input class='radio' type='radio' name='prostacao'' value='0'/> Errado</span>\",\n",
       "  \"<i>odinofagia</i> <span class = 'valida'><input class='radio' type='radio' name='odinofagia' value='1'/> Certo <input class='radio' type='radio' name='odinofagia'' value='0'/> Errado</span>\",\n",
       "  \"<i>inapetencia</i> <span class = 'valida'><input class='radio' type='radio' name='inapetencia' value='1'/> Certo <input class='radio' type='radio' name='inapetencia'' value='0'/> Errado</span>\",\n",
       "  \"<i>inapatencia</i> <span class = 'valida'><input class='radio' type='radio' name='inapatencia' value='1'/> Certo <input class='radio' type='radio' name='inapatencia'' value='0'/> Errado</span>\",\n",
       "  \"<i>hiporexia</i> <span class = 'valida'><input class='radio' type='radio' name='hiporexia' value='1'/> Certo <input class='radio' type='radio' name='hiporexia'' value='0'/> Errado</span>\",\n",
       "  \"<i>emagrescimento</i> <span class = 'valida'><input class='radio' type='radio' name='emagrescimento' value='1'/> Certo <input class='radio' type='radio' name='emagrescimento'' value='0'/> Errado</span>\",\n",
       "  \"<i>emagrecimento</i> <span class = 'valida'><input class='radio' type='radio' name='emagrecimento' value='1'/> Certo <input class='radio' type='radio' name='emagrecimento'' value='0'/> Errado</span>\",\n",
       "  \"<i>astenia</i> <span class = 'valida'><input class='radio' type='radio' name='astenia' value='1'/> Certo <input class='radio' type='radio' name='astenia'' value='0'/> Errado</span>\",\n",
       "  \"<i>adinamia</i> <span class = 'valida'><input class='radio' type='radio' name='adinamia' value='1'/> Certo <input class='radio' type='radio' name='adinamia'' value='0'/> Errado</span>\",\n",
       "  \" <input type='hidden' name='ID' value='D000855'/> \"]}"
      ]
     },
     "execution_count": 10,
     "metadata": {},
     "output_type": "execute_result"
    }
   ],
   "source": [
    "Dicionario.dictMesh['D000855']"
   ]
  },
  {
   "cell_type": "code",
   "execution_count": 8,
   "metadata": {},
   "outputs": [
    {
     "data": {
      "text/plain": [
       "{'ID': 'D007866',\n",
       " 'name': 'perna (membro)[leg]',\n",
       " 'qualifier': 'anatomy & histology',\n",
       " 'scope': 'The inferior part of the lower extremity between the KNEE and the ANKLE.',\n",
       " 'terms': ['Pernas (Membros)',\n",
       "  'Perna (Membro)',\n",
       "  \" <input type='hidden' name='ID' value='D007866'/> \"]}"
      ]
     },
     "execution_count": 8,
     "metadata": {},
     "output_type": "execute_result"
    }
   ],
   "source": [
    "Dicionario.dictMesh['D007866']"
   ]
  },
  {
   "cell_type": "code",
   "execution_count": null,
   "metadata": {},
   "outputs": [],
   "source": []
  }
 ],
 "metadata": {
  "kernelspec": {
   "display_name": "Python 3",
   "language": "python",
   "name": "python3"
  },
  "language_info": {
   "codemirror_mode": {
    "name": "ipython",
    "version": 3
   },
   "file_extension": ".py",
   "mimetype": "text/x-python",
   "name": "python",
   "nbconvert_exporter": "python",
   "pygments_lexer": "ipython3",
   "version": "3.6.5"
  }
 },
 "nbformat": 4,
 "nbformat_minor": 2
}
