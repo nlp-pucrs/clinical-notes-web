{
 "cells": [
  {
   "cell_type": "code",
   "execution_count": null,
   "metadata": {},
   "outputs": [],
   "source": [
    "from Dicionarios import Dicionarios\n",
    "\n",
    "Dicionario = Dicionarios(\n",
    "        xmlMesh='pordesc2018.xml.gz', \n",
    "        wordEmbedding='health_w2v_unigram_50.bin',\n",
    "        headingParams = [1.0, 1.0, 5],\n",
    "        qualifiersParams = [0.9, 0.89, 0.89, 0.89, 0.89],\n",
    "        printTime = True,\n",
    "        adicionaTermoPadrao = False\n",
    ")\n",
    "\n",
    "qualifier, add_indice, time_seleciona_TermosMesh, time_add_Mesh = Dicionario.run()\n",
    "Dicionario.salvaIndiceReverso('indiceReverso.dict.gz')\n",
    "Dicionario.salvaDictMesh('mesh.dict.gz')\n",
    "\n",
    "print(qualifier, add_indice, time_seleciona_TermosMesh, time_add_Mesh)"
   ]
  },
  {
   "cell_type": "code",
   "execution_count": null,
   "metadata": {},
   "outputs": [],
   "source": [
    "Dicionario.carrega_Dicionario('dictMesh')\n",
    "Dicionario.carrega_Dicionario('indiceReverso')"
   ]
  },
  {
   "cell_type": "code",
   "execution_count": null,
   "metadata": {},
   "outputs": [],
   "source": [
    "#COM 10\n",
    "\n",
    "Time qualifier:  0.00014\n",
    "Time add_IndiceReverso:  1e-05\n",
    "Time seleciona_TermosMesh: 0.02111\n",
    "Time add_Mesh:   5e-05"
   ]
  }
 ],
 "metadata": {
  "kernelspec": {
   "display_name": "Python 3",
   "language": "python",
   "name": "python3"
  }
 },
 "nbformat": 4,
 "nbformat_minor": 2
}
