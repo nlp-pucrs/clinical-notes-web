{
 "cells": [
  {
   "cell_type": "code",
   "execution_count": 1,
   "metadata": {},
   "outputs": [],
   "source": [
    "import gzip, pickle\n",
    "import pandas as pd\n",
    "\n",
    "\n",
    "with gzip.open('dictMesh.dict.gz','rb') as fp:\n",
    "    dictMesh = pickle.load(fp)\n",
    "    fp.close()"
   ]
  },
  {
   "cell_type": "markdown",
   "metadata": {},
   "source": [
    "### Monta Dicionario"
   ]
  },
  {
   "cell_type": "code",
   "execution_count": 2,
   "metadata": {},
   "outputs": [],
   "source": [
    "#prescription = pd.read_csv('./excel_evol.csv.gz', compression='gzip', nrows=50000)\n",
    "\n",
    "indiceReverso = {}\n",
    "\n",
    "for dui in list(dictMesh):\n",
    "    d = dictMesh[str(dui)]\n",
    "    for t in d['terms']:\n",
    "        indiceReverso[t.lower()] = {\n",
    "            'ID': d['ID']\n",
    "        }  "
   ]
  },
  {
   "cell_type": "code",
   "execution_count": 3,
   "metadata": {},
   "outputs": [
    {
     "data": {
      "text/plain": [
       "340337"
      ]
     },
     "execution_count": 3,
     "metadata": {},
     "output_type": "execute_result"
    }
   ],
   "source": [
    "len(indiceReverso)"
   ]
  },
  {
   "cell_type": "markdown",
   "metadata": {},
   "source": [
    "### Salva Dicionario"
   ]
  },
  {
   "cell_type": "code",
   "execution_count": 4,
   "metadata": {
    "scrolled": true
   },
   "outputs": [],
   "source": [
    "import gzip, pickle\n",
    "\n",
    "with gzip.open('indiceReversoPT.dict.gz','wb') as fp:\n",
    "    pickle.dump(indiceReverso,fp)\n",
    "    fp.close()\n"
   ]
  },
  {
   "cell_type": "markdown",
   "metadata": {},
   "source": [
    "### Carrega Dicionario"
   ]
  },
  {
   "cell_type": "code",
   "execution_count": 5,
   "metadata": {},
   "outputs": [],
   "source": [
    "import gzip, pickle\n",
    "\n",
    "with gzip.open('indiceReversoPT.dict.gz','rb') as fp:\n",
    "    indiceReverso = pickle.load(fp)\n",
    "    fp.close()"
   ]
  },
  {
   "cell_type": "code",
   "execution_count": 6,
   "metadata": {},
   "outputs": [
    {
     "name": "stdout",
     "output_type": "stream",
     "text": [
      "adomen\n",
      "estou aqui!\n"
     ]
    }
   ],
   "source": [
    "ID = 'D000005'\n",
    "        \n",
    "termos = ' '.join(dictMesh[ID]['terms'])\n",
    "for indice in indiceReverso:\n",
    "    if '<i>' in indice:\n",
    "        indice_list = indice.split(' ');\n",
    "        new_indice = indice_list[0]\n",
    "\n",
    "        if new_indice in ' '.join(dictMesh[ID]['terms']):\n",
    "            new_indice = new_indice.replace('</i>', '')\n",
    "            new_indice = new_indice.replace('<i>', '')\n",
    "            print(new_indice)\n",
    "            print(\"estou aqui!\")\n",
    "            break"
   ]
  },
  {
   "cell_type": "code",
   "execution_count": 7,
   "metadata": {},
   "outputs": [
    {
     "data": {
      "text/plain": [
       "['Abdômen',\n",
       " 'Abdomens',\n",
       " 'Abdomen',\n",
       " 'Abdome',\n",
       " \"<i>adomen</i> <input class='radio' type='radio' name='adomen' value='1'/> Certo <input class='radio' type='radio' name='adomen'' value='0'/> Errado\",\n",
       " \"<i>adome</i> <input class='radio' type='radio' name='adome' value='1'/> Certo <input class='radio' type='radio' name='adome'' value='0'/> Errado\",\n",
       " \"<i>adbome</i> <input class='radio' type='radio' name='adbome' value='1'/> Certo <input class='radio' type='radio' name='adbome'' value='0'/> Errado\",\n",
       " \"<i>abomen</i> <input class='radio' type='radio' name='abomen' value='1'/> Certo <input class='radio' type='radio' name='abomen'' value='0'/> Errado\",\n",
       " \"<i>abome</i> <input class='radio' type='radio' name='abome' value='1'/> Certo <input class='radio' type='radio' name='abome'' value='0'/> Errado\",\n",
       " \"<i>abm</i> <input class='radio' type='radio' name='abm' value='1'/> Certo <input class='radio' type='radio' name='abm'' value='0'/> Errado\",\n",
       " \"<i>abdomne</i> <input class='radio' type='radio' name='abdomne' value='1'/> Certo <input class='radio' type='radio' name='abdomne'' value='0'/> Errado\",\n",
       " \"<i>abdomen</i> <input class='radio' type='radio' name='abdomen' value='1'/> Certo <input class='radio' type='radio' name='abdomen'' value='0'/> Errado\",\n",
       " \"<i>abdomem</i> <input class='radio' type='radio' name='abdomem' value='1'/> Certo <input class='radio' type='radio' name='abdomem'' value='0'/> Errado\",\n",
       " \"<i>abdome</i> <input class='radio' type='radio' name='abdome' value='1'/> Certo <input class='radio' type='radio' name='abdome'' value='0'/> Errado\",\n",
       " \"<i>abd</i> <input class='radio' type='radio' name='abd' value='1'/> Certo <input class='radio' type='radio' name='abd'' value='0'/> Errado\",\n",
       " \" <input type='hidden' name='ID' value='D000005'/> \"]"
      ]
     },
     "execution_count": 7,
     "metadata": {},
     "output_type": "execute_result"
    }
   ],
   "source": [
    "dictMesh[ID]['terms']"
   ]
  },
  {
   "cell_type": "code",
   "execution_count": null,
   "metadata": {},
   "outputs": [],
   "source": []
  }
 ],
 "metadata": {
  "kernelspec": {
   "display_name": "Python 3",
   "language": "python",
   "name": "python3"
  },
  "language_info": {
   "codemirror_mode": {
    "name": "ipython",
    "version": 3
   },
   "file_extension": ".py",
   "mimetype": "text/x-python",
   "name": "python",
   "nbconvert_exporter": "python",
   "pygments_lexer": "ipython3",
   "version": "3.6.3"
  }
 },
 "nbformat": 4,
 "nbformat_minor": 2
}
