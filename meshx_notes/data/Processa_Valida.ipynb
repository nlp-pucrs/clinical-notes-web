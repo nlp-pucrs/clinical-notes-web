{
 "cells": [
  {
   "cell_type": "code",
   "execution_count": 13,
   "metadata": {},
   "outputs": [],
   "source": [
    "dictValida = {}\n",
    "import gzip, pickle\n",
    "with gzip.open('dictValida.dict.gz','wb') as fp:\n",
    "    pickle.dump(dictValida,fp)\n",
    "    fp.close()"
   ]
  },
  {
   "cell_type": "code",
   "execution_count": 3,
   "metadata": {
    "scrolled": true
   },
   "outputs": [],
   "source": [
    "import gzip, pickle\n",
    "with gzip.open(\"dictValida.dict.gz\",'rb') as fd:\n",
    "    dictValida = pickle.load(fd)\n",
    "    fd.close()"
   ]
  },
  {
   "cell_type": "code",
   "execution_count": 4,
   "metadata": {},
   "outputs": [
    {
     "data": {
      "text/plain": [
       "794"
      ]
     },
     "execution_count": 4,
     "metadata": {},
     "output_type": "execute_result"
    }
   ],
   "source": [
    "len(dictValida)"
   ]
  },
  {
   "cell_type": "code",
   "execution_count": 18,
   "metadata": {},
   "outputs": [
    {
     "name": "stdout",
     "output_type": "stream",
     "text": [
      "povidona[povidone] _i D011205\n",
      "ti _i D011205\n",
      "tidra _i D011205\n",
      "41s _i D011205\n",
      "39s _i D011205\n",
      "38s _i D011205\n",
      "37s _i D011205\n",
      "xls, polyplasdone _i D011205\n",
      "wet-comod _i D011205\n",
      "vidisic pvp ophtioles _i D011205\n",
      "vidisic pvp ophtiole _i D011205\n",
      "vidirakt s mit pvp _i D011205\n",
      "unspecified povidones _i D011205\n",
      "unspecified povidone _i D011205\n",
      "unifluids _i D011205\n",
      "unifluid _i D011205\n",
      "protagents _i D011205\n",
      "protagent _i D011205\n",
      "protagens _i D011205\n",
      "protagen _i D011205\n",
      "povidones, unspecified _i D011205\n",
      "povidones _i D011205\n",
      "povidone, unspecified _i D011205\n",
      "povidone _i D011205\n",
      "povidona _i D011205\n",
      "polyvinylpyrrolidones _i D011205\n",
      "polyvinylpyrrolidone _i D011205\n",
      "polyvidons _i D011205\n",
      "polyvidon _i D011205\n",
      "polyplasdone xls _i D011205\n",
      "polyplasdone xl _i D011205\n",
      "polvidones _i D011205\n",
      "polvidone _i D011205\n",
      "polvidona _i D011205\n",
      "polivinilpirrolidina _i D011205\n",
      "polividona _i D011205\n",
      "plasdones _i D011205\n",
      "plasdone _i D011205\n",
      "peristons _i D011205\n",
      "periston _i D011205\n",
      "pvp ophtioles, vidisic _i D011205\n",
      "pvp 40 _i D011205\n",
      "ophtioles, vidisic pvp _i D011205\n",
      "oculotects _i D011205\n",
      "oculotect _i D011205\n",
      "nutriviscs _i D011205\n",
      "nutrivisc _i D011205\n",
      "liquifilm lagrimas _i D011205\n",
      "liquifilm lagrima _i D011205\n",
      "lagrima, liquifilm _i D011205\n",
      "lagrifilms _i D011205\n",
      "lagrifilm _i D011205\n",
      "lacri-stulln _i D011205\n",
      "lacophtals _i D011205\n",
      "lacophtal _i D011205\n",
      "kollidons _i D011205\n",
      "kollidon _i D011205\n",
      "hypotears _i D011205\n",
      "hypotear _i D011205\n",
      "frees, duratears _i D011205\n",
      "enterodezs _i D011205\n",
      "enterodez _i D011205\n",
      "enterodes _i D011205\n",
      "enterode _i D011205\n",
      "duratears frees _i D011205\n",
      "duratears free _i D011205\n",
      "dulcilarmes _i D011205\n",
      "dulcilarme _i D011205\n",
      "crospovidones _i D011205\n",
      "crospovidone _i D011205\n",
      "bolinans _i D011205\n",
      "bolinan 40s _i D011205\n",
      "bolinan 40 _i D011205\n",
      "bolinan _i D011205\n",
      "arufils _i D011205\n",
      "arufil _i D011205\n",
      "40s, bolinan _i D011205\n",
      " <input type='hidden' name='id' value='d011205'/> _i D011205\n"
     ]
    }
   ],
   "source": [
    "for ind in reverso:\n",
    "    if(reverso[ind]['ID'] == 'D011205'):\n",
    "        print(ind, reverso[ind]['ID'] )\n",
    "        \n"
   ]
  },
  {
   "cell_type": "code",
   "execution_count": null,
   "metadata": {},
   "outputs": [],
   "source": []
  }
 ],
 "metadata": {
  "kernelspec": {
   "display_name": "Python 3",
   "language": "python",
   "name": "python3"
  },
  "language_info": {
   "codemirror_mode": {
    "name": "ipython",
    "version": 3
   },
   "file_extension": ".py",
   "mimetype": "text/x-python",
   "name": "python",
   "nbconvert_exporter": "python",
   "pygments_lexer": "ipython3",
   "version": "3.6.5"
  }
 },
 "nbformat": 4,
 "nbformat_minor": 2
}
