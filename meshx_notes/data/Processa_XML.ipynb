{
 "cells": [
  {
   "cell_type": "markdown",
   "metadata": {},
   "source": [
    "### Como manipular XML com XPath"
   ]
  },
  {
   "cell_type": "code",
   "execution_count": 7,
   "metadata": {},
   "outputs": [],
   "source": [
    "from gensim.models import KeyedVectors\n",
    "import unicodedata\n",
    "\n",
    "import gzip\n",
    "import xml.etree.ElementTree as ET\n",
    "\n",
    "with gzip.open('pordesc2018-small.xml.gz') as pordesc2018:\n",
    "    tree = ET.parse(pordesc2018)\n",
    "    "
   ]
  },
  {
   "cell_type": "code",
   "execution_count": 8,
   "metadata": {},
   "outputs": [],
   "source": [
    "### Monta Dicionario"
   ]
  },
  {
   "cell_type": "code",
   "execution_count": 9,
   "metadata": {},
   "outputs": [],
   "source": [
    "from unicodedata import normalize\n",
    "def remover_acentos(txt):\n",
    "    return normalize('NFKD', txt).encode('ASCII', 'ignore').decode('ASCII')"
   ]
  },
  {
   "cell_type": "markdown",
   "metadata": {},
   "source": [
    "### Monta Dicionario"
   ]
  },
  {
   "cell_type": "code",
   "execution_count": 10,
   "metadata": {},
   "outputs": [
    {
     "data": {
      "text/plain": [
       "1859"
      ]
     },
     "execution_count": 10,
     "metadata": {},
     "output_type": "execute_result"
    }
   ],
   "source": [
    "wordModel = KeyedVectors.load_word2vec_format('health_w2v_unigram_50.bin', binary=True)\n",
    "\n",
    "dictMesh = {}\n",
    "for d in tree.findall(\"./DescriptorRecord\"):\n",
    "    terms = []\n",
    "    \n",
    "    qualifier = '#'\n",
    "    \n",
    "    for aql in d.findall('.AllowableQualifiersList/AllowableQualifier/QualifierReferredTo/QualifierName'):\n",
    "        teste_qualifier = aql.find('./String').text\n",
    "        if(teste_qualifier == 'anatomy & histology' or teste_qualifier == 'pharmacology' or teste_qualifier == 'methods' or teste_qualifier == 'diagnosis'):\n",
    "            qualifier = teste_qualifier\n",
    "            break\n",
    "    \n",
    "    for c in d.findall('.ConceptList/'):\n",
    "        if c.find('./ScopeNote') != None:\n",
    "            scope = c.find('./ScopeNote').text.replace('\\n','').strip()\n",
    "        for t in c.findall('./TermList/'):\n",
    "            terms.append(t.find('./String').text)\n",
    "            \n",
    "            palavra_similar = []\n",
    "            \n",
    "            if t.find('./String').text.lower() in wordModel.vocab:\n",
    "                sem_assento = remover_acentos(t.find('./String').text)\n",
    "                palavra_similar = wordModel.most_similar_cosmul(sem_assento.lower(),topn=10)\n",
    "                for similar, porcentagem in palavra_similar:\n",
    "                    if(porcentagem > 0.9 and qualifier != 'pharmacology'):\n",
    "                        terms.append(\"<i>\"+similar+\"</i>\" + \" <input class='radio' type='radio' name='\"+similar+\"' value='1'/> Certo <input class='radio' type='radio' name='\"+similar+\"'' value='0'/> Errado\")\n",
    "                    elif(porcentagem > 0.95 and qualifier == 'pharmacology'):\n",
    "                        terms.append(\"<i>\"+similar+\"</i>\")\n",
    "    \n",
    "    terms.append(\" <input type='hidden' class='hidden' name='ID' value='\"+d.find('.DescriptorUI').text+\"'/> \")                         \n",
    "    dictMesh[d.find('.DescriptorUI').text] = {\n",
    "        'ID': d.find('.DescriptorUI').text,\n",
    "        'name': d.find('.DescriptorName/String').text,\n",
    "        'scope': scope,\n",
    "        'terms': sorted(set(terms), reverse=True),\n",
    "        'qualifier': qualifier\n",
    "    }\n",
    "                \n",
    "    #break\n",
    "len(dictMesh)"
   ]
  },
  {
   "cell_type": "markdown",
   "metadata": {},
   "source": [
    "### Salva Dicionario"
   ]
  },
  {
   "cell_type": "code",
   "execution_count": 11,
   "metadata": {},
   "outputs": [],
   "source": [
    "import gzip, pickle\n",
    "\n",
    "with gzip.open('dictMesh.dict_eng.gz','wb') as fp:\n",
    "    pickle.dump(dictMesh,fp)\n",
    "    fp.close()"
   ]
  },
  {
   "cell_type": "markdown",
   "metadata": {},
   "source": [
    "### Carrega Dicionario"
   ]
  },
  {
   "cell_type": "code",
   "execution_count": 12,
   "metadata": {},
   "outputs": [
    {
     "data": {
      "text/plain": [
       "{'ID': 'D000001',\n",
       " 'name': 'Calcimicina[Calcimycin]',\n",
       " 'scope': 'An ionophorous, polyether antibiotic from Streptomyces chartreusensis. It binds and transports CALCIUM and other divalent cations across membranes and uncouples oxidative phosphorylation while inhibiting ATPase of rat liver mitochondria. The substance is used mostly as a biochemical tool to study the role of divalent cations in various biological systems.',\n",
       " 'terms': ['Calcimycin',\n",
       "  'Calcimicina',\n",
       "  'Antibiotic A23187',\n",
       "  'A23187, Antibiotic',\n",
       "  'A23187',\n",
       "  'A-23187',\n",
       "  'A 23187',\n",
       "  \" <input type='hidden' name='ID' value='D000001'/> \"],\n",
       " 'qualifier': 'pharmacology'}"
      ]
     },
     "execution_count": 12,
     "metadata": {},
     "output_type": "execute_result"
    }
   ],
   "source": [
    "import gzip, pickle\n",
    "\n",
    "with gzip.open('dictMesh.dict.gz','rb') as fp:\n",
    "    dictMesh = pickle.load(fp)\n",
    "    fp.close()\n",
    "    \n",
    "dictMesh['D000001']"
   ]
  },
  {
   "cell_type": "code",
   "execution_count": 13,
   "metadata": {},
   "outputs": [
    {
     "name": "stdout",
     "output_type": "stream",
     "text": [
      "Calcimicina\n",
      "An ionophorous, polyether antibiotic from Streptomyces chartreusensis. It binds and transports CALCIUM and other divalent cations across membranes and uncouples oxidative phosphorylation while inhibiting ATPase of rat liver mitochondria. The substance is used mostly as a biochemical tool to study the role of divalent cations in various biological systems.\n"
     ]
    }
   ],
   "source": [
    "palavra = 'Calcimicina'\n",
    "for dui in dictMesh:\n",
    "    d = dictMesh[dui]\n",
    "    for t in d['terms']:\n",
    "        if t.lower() == palavra.lower():\n",
    "            print(t)\n",
    "            print(d['scope'])"
   ]
  },
  {
   "cell_type": "code",
   "execution_count": null,
   "metadata": {},
   "outputs": [],
   "source": []
  }
 ],
 "metadata": {
  "kernelspec": {
   "display_name": "Python 3",
   "language": "python",
   "name": "python3"
  },
  "language_info": {
   "codemirror_mode": {
    "name": "ipython",
    "version": 3
   },
   "file_extension": ".py",
   "mimetype": "text/x-python",
   "name": "python",
   "nbconvert_exporter": "python",
   "pygments_lexer": "ipython3",
   "version": "3.6.3"
  }
 },
 "nbformat": 4,
 "nbformat_minor": 2
}
