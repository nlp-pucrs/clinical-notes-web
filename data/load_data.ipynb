{
 "cells": [
  {
   "cell_type": "markdown",
   "metadata": {},
   "source": [
    "### Como manipular o CSV com Pandas"
   ]
  },
  {
   "cell_type": "code",
   "execution_count": 7,
   "metadata": {},
   "outputs": [],
   "source": [
    "import pandas as pd\n",
    "\n",
    "ea = pd.read_csv('excel_ea.csv.gz', compression='gzip')"
   ]
  },
  {
   "cell_type": "code",
   "execution_count": 8,
   "metadata": {},
   "outputs": [],
   "source": [
    "teste = ea.shape[1]\n",
    "i=0\n",
    "for i in range(teste):\n",
    "    teste = ea.columns[i] \n"
   ]
  },
  {
   "cell_type": "code",
   "execution_count": 9,
   "metadata": {},
   "outputs": [
    {
     "name": "stdout",
     "output_type": "stream",
     "text": [
      "2016-12-02 00:00:00\n",
      "2015-03-02 00:00:00\n"
     ]
    }
   ],
   "source": [
    "for idx in ea.index:\n",
    "    print(ea.loc[idx,'DATA'])"
   ]
  },
  {
   "cell_type": "markdown",
   "metadata": {},
   "source": [
    "### Como manipular XML com XPath"
   ]
  },
  {
   "cell_type": "code",
   "execution_count": 10,
   "metadata": {},
   "outputs": [],
   "source": [
    "import gzip\n",
    "import xml.etree.ElementTree as ET\n",
    "\n",
    "with gzip.open('pordesc2018-small.xml.gz') as pordesc2018:\n",
    "    tree = ET.parse(pordesc2018)"
   ]
  },
  {
   "cell_type": "code",
   "execution_count": 11,
   "metadata": {},
   "outputs": [
    {
     "name": "stdout",
     "output_type": "stream",
     "text": [
      "D000073496 Fragilidade[Frailty]\n"
     ]
    }
   ],
   "source": [
    "#tree.find(\".//DescriptorRecord/..[String='Laticauda']\")\n",
    "DescriptorUI = tree.find(\"./DescriptorRecord/*/*/*/*/[String='Fragilidade']/../../../../\").text\n",
    "DescriptorName = tree.find(\"./DescriptorRecord/*/*/*/*/[String='Fragilidade']/../../../../DescriptorName/\").text\n",
    "print(DescriptorUI, DescriptorName)"
   ]
  },
  {
   "cell_type": "code",
   "execution_count": 12,
   "metadata": {},
   "outputs": [
    {
     "ename": "NameError",
     "evalue": "name 'descriptor' is not defined",
     "output_type": "error",
     "traceback": [
      "\u001b[0;31m---------------------------------------------------------------------------\u001b[0m",
      "\u001b[0;31mNameError\u001b[0m                                 Traceback (most recent call last)",
      "\u001b[0;32m<ipython-input-12-45e7ca2b092a>\u001b[0m in \u001b[0;36m<module>\u001b[0;34m()\u001b[0m\n\u001b[0;32m----> 1\u001b[0;31m \u001b[0mdescriptor\u001b[0m\u001b[0;34m.\u001b[0m\u001b[0mfindall\u001b[0m\u001b[0;34m(\u001b[0m\u001b[0;34m'.DescriptorName/'\u001b[0m\u001b[0;34m)\u001b[0m\u001b[0;34m\u001b[0m\u001b[0m\n\u001b[0m",
      "\u001b[0;31mNameError\u001b[0m: name 'descriptor' is not defined"
     ]
    }
   ],
   "source": [
    "descriptor.findall('.DescriptorName/')"
   ]
  },
  {
   "cell_type": "code",
   "execution_count": 16,
   "metadata": {},
   "outputs": [
    {
     "name": "stdout",
     "output_type": "stream",
     "text": [
      "A genus of gram-negative bacteria of the family MORAXELLACEAE, found in soil and water and of uncertain pathogenicity.\n",
      "    \n"
     ]
    }
   ],
   "source": [
    "palavra = 'Acinetobacter'\n",
    "#elem = tree.find(\"./DescriptorRecord/*/*/*/*/[String='\"+palavra+\"']/../../../../\")\n",
    "elem = tree.find(\"./DescriptorRecord/*/*/*/*/[String='\"+palavra+\"']/../../../../\")\n",
    "if elem is not None:\n",
    "    DUI = elem.text\n",
    "    descriptor = tree.find(\"./DescriptorRecord/[DescriptorUI='\"+DUI+\"']\")\n",
    "    name = descriptor.find('.DescriptorName/String').text\n",
    "    scope = descriptor.find('.ConceptList/Concept/ScopeNote').text\n",
    "    print(scope)\n",
    "else:\n",
    "    print(\"Nao foi dessa vez\")"
   ]
  },
  {
   "cell_type": "code",
   "execution_count": 17,
   "metadata": {},
   "outputs": [
    {
     "name": "stdout",
     "output_type": "stream",
     "text": [
      "D000001\n",
      "Calcimicina[Calcimycin]\n",
      "An ionophorous, polyether antibiotic from Streptomyces chartreusensis. It binds and transports CALCIUM and other divalent cations across membranes and uncouples oxidative phosphorylation while inhibiting ATPase of rat liver mitochondria. The substance is used mostly as a biochemical tool to study the role of divalent cations in various biological systems.\n",
      "    \n",
      "Calcimycin\n",
      "Calcimicina\n",
      "A-23187\n",
      "A 23187\n",
      "A23187\n",
      "Antibiotic A23187\n",
      "A23187, Antibiotic\n"
     ]
    }
   ],
   "source": [
    "dictMesh = {}\n",
    "for d in tree.findall(\"./DescriptorRecord\"):\n",
    "    terms = []\n",
    "    \n",
    "    print(d.find('.DescriptorUI').text)\n",
    "    print(d.find('.DescriptorName/String').text)\n",
    "    print(d.find('.ConceptList/Concept/ScopeNote').text)\n",
    "    for c in d.findall('.ConceptList/'):\n",
    "        for t in c.findall('./TermList/'):\n",
    "            print(t.find('./String').text)\n",
    "            terms.append(t.find('./String').text)\n",
    "            \n",
    "    dictMesh[d.find('.DescriptorUI').text] = {\n",
    "        'name': d.find('.DescriptorName/String').text,\n",
    "        'scope': d.find('.ConceptList/Concept/ScopeNote').text.replace('\\n','').strip(),\n",
    "        'terms': terms\n",
    "    }\n",
    "            \n",
    "    break"
   ]
  },
  {
   "cell_type": "code",
   "execution_count": 25,
   "metadata": {},
   "outputs": [
    {
     "data": {
      "text/plain": [
       "{'D000001': {'name': 'Calcimicina[Calcimycin]',\n",
       "  'scope': 'An ionophorous, polyether antibiotic from Streptomyces chartreusensis. It binds and transports CALCIUM and other divalent cations across membranes and uncouples oxidative phosphorylation while inhibiting ATPase of rat liver mitochondria. The substance is used mostly as a biochemical tool to study the role of divalent cations in various biological systems.',\n",
       "  'terms': ['Calcimycin',\n",
       "   'Calcimicina',\n",
       "   'A-23187',\n",
       "   'A 23187',\n",
       "   'A23187',\n",
       "   'Antibiotic A23187',\n",
       "   'A23187, Antibiotic']}}"
      ]
     },
     "execution_count": 25,
     "metadata": {},
     "output_type": "execute_result"
    }
   ],
   "source": [
    "dictMesh"
   ]
  },
  {
   "cell_type": "code",
   "execution_count": null,
   "metadata": {},
   "outputs": [],
   "source": []
  },
  {
   "cell_type": "code",
   "execution_count": null,
   "metadata": {},
   "outputs": [],
   "source": [
    "t.findall('./String')"
   ]
  },
  {
   "cell_type": "code",
   "execution_count": 21,
   "metadata": {},
   "outputs": [
    {
     "name": "stdout",
     "output_type": "stream",
     "text": [
      "Fragilidade[Frailty]\n",
      "Fragilidade[Frailty]\n",
      "Fragilidade\n",
      "Síndrome da Fragilidade[Frailty Syndrome]\n",
      "Síndrome da Fragilidade\n"
     ]
    }
   ],
   "source": [
    "found = [element for element in tree.getiterator() if 'Fragilidade'.lower() in element.text.lower()]\n",
    "\n",
    "for f in found:\n",
    "    print(f.text)"
   ]
  },
  {
   "cell_type": "markdown",
   "metadata": {},
   "source": [
    "### Como utilizar Word Embeddings para palavras similares"
   ]
  },
  {
   "cell_type": "code",
   "execution_count": null,
   "metadata": {},
   "outputs": [],
   "source": [
    "from gensim.models import KeyedVectors\n",
    "\n",
    "wordModel = KeyedVectors.load_word2vec_format('health_w2v_unigram_50.bin', binary=True)"
   ]
  },
  {
   "cell_type": "code",
   "execution_count": null,
   "metadata": {},
   "outputs": [],
   "source": [
    "#wordModel.most_similar_cosmul('abdomen',topn=20)\n",
    "teste = wordModel.most_similar_cosmul('diabetes',topn=20)\n",
    "\n",
    "teste"
   ]
  },
  {
   "cell_type": "code",
   "execution_count": null,
   "metadata": {},
   "outputs": [],
   "source": [
    "i = ['teste', 'testando', 'testei']\n",
    "for bah in i:\n",
    "    print(bah)\n",
    "print(i[0])"
   ]
  },
  {
   "cell_type": "code",
   "execution_count": null,
   "metadata": {},
   "outputs": [],
   "source": [
    "wordModel = KeyedVectors.load_word2vec_format('health_w2v_unigram_50.bin', binary=True)\n",
    "palavra_similar = wordModel.most_similar_cosmul('abdomen',topn=10)\n",
    "for p in palavra_similar:\n",
    "    if 'abd' == p[0]:\n",
    "        print(p[0])"
   ]
  },
  {
   "cell_type": "code",
   "execution_count": null,
   "metadata": {},
   "outputs": [],
   "source": [
    "prescription = pd.read_csv('./excel_evol.csv.gz', compression='gzip', nrows=50000)\n",
    "\n",
    "m = prescription.loc[15]\n",
    "m"
   ]
  },
  {
   "cell_type": "code",
   "execution_count": null,
   "metadata": {},
   "outputs": [],
   "source": []
  },
  {
   "cell_type": "code",
   "execution_count": null,
   "metadata": {},
   "outputs": [],
   "source": []
  }
 ],
 "metadata": {
  "kernelspec": {
   "display_name": "Python 3",
   "language": "python",
   "name": "python3"
  },
  "language_info": {
   "codemirror_mode": {
    "name": "ipython",
    "version": 3
   },
   "file_extension": ".py",
   "mimetype": "text/x-python",
   "name": "python",
   "nbconvert_exporter": "python",
   "pygments_lexer": "ipython3",
   "version": "3.6.3"
  }
 },
 "nbformat": 4,
 "nbformat_minor": 2
}
