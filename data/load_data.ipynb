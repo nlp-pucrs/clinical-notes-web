{
 "cells": [
  {
   "cell_type": "markdown",
   "metadata": {},
   "source": [
    "### Como manipular o CSV com Pandas"
   ]
  },
  {
   "cell_type": "code",
   "execution_count": 1,
   "metadata": {},
   "outputs": [],
   "source": [
    "import pandas as pd\n",
    "\n",
    "ea = pd.read_csv('excel_ea.csv.gz', compression='gzip')"
   ]
  },
  {
   "cell_type": "code",
   "execution_count": 4,
   "metadata": {},
   "outputs": [],
   "source": [
    "teste = ea.shape[1]\n",
    "i=0\n",
    "for i in range(teste):\n",
    "    teste = ea.columns[i] \n"
   ]
  },
  {
   "cell_type": "code",
   "execution_count": 5,
   "metadata": {},
   "outputs": [
    {
     "name": "stdout",
     "output_type": "stream",
     "text": [
      "2016-12-02 00:00:00\n",
      "2015-03-02 00:00:00\n"
     ]
    }
   ],
   "source": [
    "for idx in ea.index:\n",
    "    print(ea.loc[idx,'DATA'])"
   ]
  },
  {
   "cell_type": "markdown",
   "metadata": {},
   "source": [
    "### Como manipular XML com XPath"
   ]
  },
  {
   "cell_type": "code",
   "execution_count": 22,
   "metadata": {},
   "outputs": [],
   "source": [
    "import gzip\n",
    "import xml.etree.ElementTree as ET\n",
    "\n",
    "with gzip.open('pordesc2018-small.xml.gz') as pordesc2018:\n",
    "    tree = ET.parse(pordesc2018)"
   ]
  },
  {
   "cell_type": "code",
   "execution_count": 23,
   "metadata": {},
   "outputs": [
    {
     "name": "stdout",
     "output_type": "stream",
     "text": [
      "D000073496 Fragilidade[Frailty]\n"
     ]
    }
   ],
   "source": [
    "#tree.find(\".//DescriptorRecord/..[String='Laticauda']\")\n",
    "DescriptorUI = tree.find(\"./DescriptorRecord/*/*/*/*/[String='Fragilidade']/../../../../\").text\n",
    "DescriptorName = tree.find(\"./DescriptorRecord/*/*/*/*/[String='Fragilidade']/../../../../DescriptorName/\").text\n",
    "print(DescriptorUI, DescriptorName)"
   ]
  },
  {
   "cell_type": "code",
   "execution_count": 71,
   "metadata": {},
   "outputs": [
    {
     "data": {
      "text/plain": [
       "[<Element 'Concept' at 0x7f22fb742728>,\n",
       " <Element 'Concept' at 0x7f2310cbd548>,\n",
       " <Element 'Concept' at 0x7f2310cb6048>,\n",
       " <Element 'Concept' at 0x7f2310cb6ae8>,\n",
       " <Element 'Concept' at 0x7f2310cb45e8>,\n",
       " <Element 'Concept' at 0x7f2310caee58>,\n",
       " <Element 'Concept' at 0x7f2310cae2c8>]"
      ]
     },
     "execution_count": 71,
     "metadata": {},
     "output_type": "execute_result"
    }
   ],
   "source": [
    "descriptor.findall('.ConceptList/')"
   ]
  },
  {
   "cell_type": "code",
   "execution_count": 72,
   "metadata": {},
   "outputs": [
    {
     "name": "stdout",
     "output_type": "stream",
     "text": [
      "D000236 Adenoma[Adenoma] A benign epithelial tumor with a glandular organization.\n",
      "    \n"
     ]
    }
   ],
   "source": [
    "palavra = 'Adenoma'\n",
    "elem = tree.find(\"./DescriptorRecord/*/*/*/*/[String='\"+palavra+\"']/../../../../\")\n",
    "if elem is not None:\n",
    "    DUI = elem.text\n",
    "    descriptor = tree.find(\"./DescriptorRecord/[DescriptorUI='\"+DUI+\"']\")\n",
    "    name = descriptor.find('.DescriptorName/String').text\n",
    "    scope = descriptor.find('.ConceptList/Concept/ScopeNote').text\n",
    "    print(DUI, name, scope)"
   ]
  },
  {
   "cell_type": "code",
   "execution_count": 21,
   "metadata": {},
   "outputs": [
    {
     "name": "stdout",
     "output_type": "stream",
     "text": [
      "Fragilidade[Frailty]\n",
      "Fragilidade[Frailty]\n",
      "Fragilidade\n",
      "Síndrome da Fragilidade[Frailty Syndrome]\n",
      "Síndrome da Fragilidade\n"
     ]
    }
   ],
   "source": [
    "found = [element for element in tree.getiterator() if 'Fragilidade'.lower() in element.text.lower()]\n",
    "\n",
    "for f in found:\n",
    "    print(f.text)"
   ]
  },
  {
   "cell_type": "markdown",
   "metadata": {},
   "source": [
    "### Como utilizar Word Embeddings para palavras similares"
   ]
  },
  {
   "cell_type": "code",
   "execution_count": 9,
   "metadata": {},
   "outputs": [],
   "source": [
    "from gensim.models import KeyedVectors\n",
    "\n",
    "wordModel = KeyedVectors.load_word2vec_format('health_w2v_unigram_50.bin', binary=True)"
   ]
  },
  {
   "cell_type": "code",
   "execution_count": 12,
   "metadata": {},
   "outputs": [
    {
     "data": {
      "text/plain": [
       "[('debilidade', 0.832336962223053),\n",
       " ('condicao', 0.8320326805114746),\n",
       " ('mantidointegridade', 0.8311721086502075),\n",
       " ('compleicao', 0.8299519419670105),\n",
       " ('inadequacao', 0.8266116976737976),\n",
       " ('imobilidade', 0.8194984197616577),\n",
       " ('umidade', 0.8118348121643066),\n",
       " ('erupcao', 0.8117281794548035),\n",
       " ('tratos', 0.8114827275276184),\n",
       " ('severidade', 0.8109140396118164)]"
      ]
     },
     "execution_count": 12,
     "metadata": {},
     "output_type": "execute_result"
    }
   ],
   "source": [
    "wordModel.most_similar_cosmul('fragilidade',topn=10)"
   ]
  },
  {
   "cell_type": "code",
   "execution_count": 7,
   "metadata": {},
   "outputs": [
    {
     "name": "stdout",
     "output_type": "stream",
     "text": [
      "teste\n",
      "testando\n",
      "testei\n",
      "teste\n"
     ]
    }
   ],
   "source": [
    "i = ['teste', 'testando', 'testei']\n",
    "for bah in i:\n",
    "    print(bah)\n",
    "print(i[0])"
   ]
  },
  {
   "cell_type": "code",
   "execution_count": null,
   "metadata": {},
   "outputs": [],
   "source": []
  }
 ],
 "metadata": {
  "kernelspec": {
   "display_name": "Python 3",
   "language": "python",
   "name": "python3"
  },
  "language_info": {
   "codemirror_mode": {
    "name": "ipython",
    "version": 3
   },
   "file_extension": ".py",
   "mimetype": "text/x-python",
   "name": "python",
   "nbconvert_exporter": "python",
   "pygments_lexer": "ipython3",
   "version": "3.6.3"
  }
 },
 "nbformat": 4,
 "nbformat_minor": 2
}
