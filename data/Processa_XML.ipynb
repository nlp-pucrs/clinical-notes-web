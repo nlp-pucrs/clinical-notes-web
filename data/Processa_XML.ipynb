{
 "cells": [
  {
   "cell_type": "markdown",
   "metadata": {},
   "source": [
    "### Como manipular XML com XPath"
   ]
  },
  {
   "cell_type": "code",
   "execution_count": 44,
   "metadata": {},
   "outputs": [],
   "source": [
    "import gzip\n",
    "import xml.etree.ElementTree as ET\n",
    "\n",
    "with gzip.open('pordesc2018.xml.gz') as pordesc2018:\n",
    "    tree = ET.parse(pordesc2018)"
   ]
  },
  {
   "cell_type": "markdown",
   "metadata": {},
   "source": [
    "### Monta Dicionario"
   ]
  },
  {
   "cell_type": "code",
   "execution_count": 45,
   "metadata": {},
   "outputs": [
    {
     "data": {
      "text/plain": [
       "28939"
      ]
     },
     "execution_count": 45,
     "metadata": {},
     "output_type": "execute_result"
    }
   ],
   "source": [
    "dictMesh = {}\n",
    "for d in tree.findall(\"./DescriptorRecord\"):\n",
    "    terms = []\n",
    "    \n",
    "    for c in d.findall('.ConceptList/'):\n",
    "        if c.find('./ScopeNote') != None:\n",
    "            scope = c.find('./ScopeNote').text.replace('\\n','').strip()\n",
    "        for t in c.findall('./TermList/'):\n",
    "            terms.append(t.find('./String').text)\n",
    "            \n",
    "    dictMesh[d.find('.DescriptorUI').text] = {\n",
    "        'name': d.find('.DescriptorName/String').text,\n",
    "        'scope': scope,\n",
    "        'terms': terms\n",
    "    }\n",
    "            \n",
    "    #break\n",
    "len(dictMesh)"
   ]
  },
  {
   "cell_type": "markdown",
   "metadata": {},
   "source": [
    "### Imprime Exemplo"
   ]
  },
  {
   "cell_type": "code",
   "execution_count": 46,
   "metadata": {},
   "outputs": [
    {
     "data": {
      "text/plain": [
       "{'name': 'Calcimicina[Calcimycin]',\n",
       " 'scope': 'An ionophorous, polyether antibiotic from Streptomyces chartreusensis. It binds and transports CALCIUM and other divalent cations across membranes and uncouples oxidative phosphorylation while inhibiting ATPase of rat liver mitochondria. The substance is used mostly as a biochemical tool to study the role of divalent cations in various biological systems.',\n",
       " 'terms': ['Calcimycin',\n",
       "  'Calcimicina',\n",
       "  'A-23187',\n",
       "  'A 23187',\n",
       "  'A23187',\n",
       "  'Antibiotic A23187',\n",
       "  'A23187, Antibiotic']}"
      ]
     },
     "execution_count": 46,
     "metadata": {},
     "output_type": "execute_result"
    }
   ],
   "source": [
    "dictMesh['D000001']"
   ]
  },
  {
   "cell_type": "markdown",
   "metadata": {},
   "source": [
    "### Salva Dicionario"
   ]
  },
  {
   "cell_type": "code",
   "execution_count": 47,
   "metadata": {},
   "outputs": [],
   "source": [
    "import gzip, pickle\n",
    "\n",
    "with gzip.open('dictMesh.dict.gz','wb') as fp:\n",
    "    pickle.dump(dictMesh,fp)\n",
    "    fp.close()"
   ]
  },
  {
   "cell_type": "markdown",
   "metadata": {},
   "source": [
    "### Carrega Dicionario"
   ]
  },
  {
   "cell_type": "code",
   "execution_count": 48,
   "metadata": {},
   "outputs": [
    {
     "data": {
      "text/plain": [
       "{'name': 'Calcimicina[Calcimycin]',\n",
       " 'scope': 'An ionophorous, polyether antibiotic from Streptomyces chartreusensis. It binds and transports CALCIUM and other divalent cations across membranes and uncouples oxidative phosphorylation while inhibiting ATPase of rat liver mitochondria. The substance is used mostly as a biochemical tool to study the role of divalent cations in various biological systems.',\n",
       " 'terms': ['Calcimycin',\n",
       "  'Calcimicina',\n",
       "  'A-23187',\n",
       "  'A 23187',\n",
       "  'A23187',\n",
       "  'Antibiotic A23187',\n",
       "  'A23187, Antibiotic']}"
      ]
     },
     "execution_count": 48,
     "metadata": {},
     "output_type": "execute_result"
    }
   ],
   "source": [
    "import gzip, pickle\n",
    "\n",
    "with gzip.open('dictMesh.dict.gz','rb') as fp:\n",
    "    dictMesh = pickle.load(fp)\n",
    "    fp.close()\n",
    "    \n",
    "dictMesh['D000001']"
   ]
  },
  {
   "cell_type": "code",
   "execution_count": 49,
   "metadata": {},
   "outputs": [
    {
     "name": "stdout",
     "output_type": "stream",
     "text": [
      "Calcimicina\n"
     ]
    }
   ],
   "source": [
    "palavra = 'calcimicina'\n",
    "for dui in dictMesh:\n",
    "    d = dictMesh[dui]\n",
    "    for t in d['terms']:\n",
    "        if t.lower() == palavra.lower():\n",
    "            print(t)"
   ]
  },
  {
   "cell_type": "code",
   "execution_count": null,
   "metadata": {},
   "outputs": [],
   "source": []
  },
  {
   "cell_type": "code",
   "execution_count": null,
   "metadata": {},
   "outputs": [],
   "source": []
  }
 ],
 "metadata": {
  "kernelspec": {
   "display_name": "Python 3",
   "language": "python",
   "name": "python3"
  },
  "language_info": {
   "codemirror_mode": {
    "name": "ipython",
    "version": 3
   },
   "file_extension": ".py",
   "mimetype": "text/x-python",
   "name": "python",
   "nbconvert_exporter": "python",
   "pygments_lexer": "ipython3",
   "version": "3.6.3"
  }
 },
 "nbformat": 4,
 "nbformat_minor": 2
}
