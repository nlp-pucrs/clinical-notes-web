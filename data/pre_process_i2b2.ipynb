{
 "cells": [
  {
   "cell_type": "code",
   "execution_count": 1,
   "metadata": {},
   "outputs": [],
   "source": [
    "import nltk\n",
    "\n",
    "from os import walk\n",
    "\n",
    "for (dirpath, dirnames, filenames) in walk('data'):\n",
    "    break"
   ]
  },
  {
   "cell_type": "code",
   "execution_count": 19,
   "metadata": {},
   "outputs": [
    {
     "name": "stdout",
     "output_type": "stream",
     "text": [
      "Arquivo: 66525\n",
      "Total:  171470\n"
     ]
    }
   ],
   "source": [
    "sentences = []\n",
    "\n",
    "for i, file in enumerate(filenames):\n",
    "    with open('data/' + file) as f:\n",
    "        read_data = f.read()\n",
    "        sents = nltk.sent_tokenize(read_data.replace('\\n',''))\n",
    "        for sentence in sents:\n",
    "            sentences.append(nltk.word_tokenize(sentence))\n",
    "    f.closed\n",
    "    \n",
    "print('Arquivo: ' + file)\n",
    "print('Total: ' , len(sentences))"
   ]
  },
  {
   "cell_type": "code",
   "execution_count": 20,
   "metadata": {},
   "outputs": [],
   "source": [
    "import gensim\n",
    "\n",
    "# train model\n",
    "model = gensim.models.Word2Vec(sentences, size=50, workers=8, iter=10, negative=5, min_count=10)\n",
    "# trim memory\n",
    "model.init_sims(replace=True)\n",
    "# save model\n",
    "model.save('english_unigram.mdl')\n",
    "model.wv.save_word2vec_format('english_unigram.bin', binary=True)"
   ]
  },
  {
   "cell_type": "code",
   "execution_count": 21,
   "metadata": {},
   "outputs": [
    {
     "name": "stdout",
     "output_type": "stream",
     "text": [
      "Number of tokens in Word2Vec: 17307\n"
     ]
    }
   ],
   "source": [
    "# creta a dict # creta \n",
    "w2v = dict(zip(model.wv.index2word, model.wv.syn0))\n",
    "print (\"Number of tokens in Word2Vec:\", len(w2v.keys()))"
   ]
  },
  {
   "cell_type": "code",
   "execution_count": 22,
   "metadata": {},
   "outputs": [
    {
     "name": "stderr",
     "output_type": "stream",
     "text": [
      "/home/grupopln/.local/lib/python3.6/site-packages/ipykernel_launcher.py:1: DeprecationWarning: Call to deprecated `most_similar_cosmul` (Method will be removed in 4.0.0, use self.wv.most_similar_cosmul() instead).\n",
      "  \"\"\"Entry point for launching an IPython kernel.\n"
     ]
    },
    {
     "data": {
      "text/plain": [
       "[('chair', 0.8154204487800598),\n",
       " ('car', 0.8016360998153687),\n",
       " ('decline', 0.7965995669364929),\n",
       " ('falls', 0.7951405048370361),\n",
       " ('inability', 0.7907082438468933),\n",
       " ('falling', 0.7824661731719971),\n",
       " ('comes', 0.7760178446769714),\n",
       " ('bed', 0.7756456136703491),\n",
       " ('apartment', 0.774603009223938),\n",
       " ('wheelchair', 0.7728946208953857)]"
      ]
     },
     "execution_count": 22,
     "metadata": {},
     "output_type": "execute_result"
    }
   ],
   "source": [
    "model.most_similar_cosmul('fall',topn=10)"
   ]
  },
  {
   "cell_type": "code",
   "execution_count": null,
   "metadata": {},
   "outputs": [],
   "source": []
  }
 ],
 "metadata": {
  "kernelspec": {
   "display_name": "Python 3",
   "language": "python",
   "name": "python3"
  },
  "language_info": {
   "codemirror_mode": {
    "name": "ipython",
    "version": 3
   },
   "file_extension": ".py",
   "mimetype": "text/x-python",
   "name": "python",
   "nbconvert_exporter": "python",
   "pygments_lexer": "ipython3",
   "version": "3.6.3"
  }
 },
 "nbformat": 4,
 "nbformat_minor": 2
}
