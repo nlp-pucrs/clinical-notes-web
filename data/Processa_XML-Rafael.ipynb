{
 "cells": [
  {
   "cell_type": "markdown",
   "metadata": {},
   "source": [
    "### Como manipular XML com XPath"
   ]
  },
  {
   "cell_type": "code",
   "execution_count": 5,
   "metadata": {},
   "outputs": [],
   "source": [
    "from gensim.models import KeyedVectors\n",
    "import unicodedata\n",
    "\n",
    "import gzip\n",
    "import xml.etree.ElementTree as ET\n",
    "\n",
    "with gzip.open('pordesc2018-small.xml.gz') as pordesc2018:\n",
    "    tree = ET.parse(pordesc2018)\n",
    "    "
   ]
  },
  {
   "cell_type": "markdown",
   "metadata": {},
   "source": [
    "### Monta Dicionario"
   ]
  },
  {
   "cell_type": "code",
   "execution_count": 6,
   "metadata": {},
   "outputs": [],
   "source": [
    "from unicodedata import normalize\n",
    "def remover_acentos(txt):\n",
    "    return normalize('NFKD', txt).encode('ASCII', 'ignore').decode('ASCII')"
   ]
  },
  {
   "cell_type": "code",
   "execution_count": 7,
   "metadata": {},
   "outputs": [
    {
     "data": {
      "text/plain": [
       "1859"
      ]
     },
     "execution_count": 7,
     "metadata": {},
     "output_type": "execute_result"
    }
   ],
   "source": [
    "wordModel = KeyedVectors.load_word2vec_format('health_w2v_unigram_50.bin', binary=True)\n",
    "\n",
    "dictMesh = {}\n",
    "for d in tree.findall(\"./DescriptorRecord\"):\n",
    "    terms = []\n",
    "    \n",
    "    for aql in d.findall('.AllowableQualifiersList/AllowableQualifier/QualifierReferredTo/QualifierName'):\n",
    "        teste_qualifier = aql.find('./String').text\n",
    "        if(teste_qualifier == 'anatomy & histology' or teste_qualifier == 'pharmacology' or teste_qualifier == 'methods' or teste_qualifier == 'diagnosis'):\n",
    "            qualifier = teste_qualifier\n",
    "            break\n",
    "        else:\n",
    "            qualifier = \"#\"\n",
    "    \n",
    "    for c in d.findall('.ConceptList/'):\n",
    "        if c.find('./ScopeNote') != None:\n",
    "            scope = c.find('./ScopeNote').text.replace('\\n','').strip()\n",
    "        for t in c.findall('./TermList/'):\n",
    "            terms.append(t.find('./String').text)\n",
    "            \n",
    "            palavra_similar = []\n",
    "            \n",
    "            if t.find('./String').text.lower() in wordModel.vocab:\n",
    "                sem_assento = remover_acentos(t.find('./String').text)\n",
    "                palavra_similar = wordModel.most_similar_cosmul(sem_assento.lower(),topn=10)\n",
    "                for similar, porcentagem in palavra_similar:\n",
    "                    if(porcentagem > 0.9):\n",
    "                        terms.append(\"<i>\"+similar+\"</i>\")\n",
    "\n",
    "            \n",
    "    dictMesh[d.find('.DescriptorUI').text] = {\n",
    "        'ID': d.find('.DescriptorUI').text,\n",
    "        'name': d.find('.DescriptorName/String').text,\n",
    "        'scope': scope,\n",
    "        'terms': set(terms),\n",
    "        'qualifier': qualifier\n",
    "    }\n",
    "                \n",
    "    #break\n",
    "len(dictMesh)"
   ]
  },
  {
   "cell_type": "markdown",
   "metadata": {},
   "source": [
    "### Imprime Exemplo"
   ]
  },
  {
   "cell_type": "code",
   "execution_count": 8,
   "metadata": {},
   "outputs": [],
   "source": [
    "#for i in dictMesh:\n",
    "#    print (i)"
   ]
  },
  {
   "cell_type": "markdown",
   "metadata": {},
   "source": [
    "### Salva Dicionario"
   ]
  },
  {
   "cell_type": "code",
   "execution_count": 9,
   "metadata": {},
   "outputs": [],
   "source": [
    "import gzip, pickle\n",
    "\n",
    "with gzip.open('dictMesh.dict.gz','wb') as fp:\n",
    "    pickle.dump(dictMesh,fp)\n",
    "    fp.close()"
   ]
  },
  {
   "cell_type": "markdown",
   "metadata": {},
   "source": [
    "### Carrega Dicionario"
   ]
  },
  {
   "cell_type": "code",
   "execution_count": 10,
   "metadata": {},
   "outputs": [
    {
     "data": {
      "text/plain": [
       "{'ID': 'D000069280',\n",
       " 'name': 'Eletrocorticografia[Electrocorticography]',\n",
       " 'scope': 'Recording of brain electrical activities in which the electrodes are placed directly on the CEREBRAL CORTEX.',\n",
       " 'terms': {'ECoG, Extraoperative',\n",
       "  'ECoG, Intraoperative',\n",
       "  'ECoGs, Extraoperative',\n",
       "  'ECoGs, Intraoperative',\n",
       "  'EEG, Intracranial',\n",
       "  'EEGs, Intracranial',\n",
       "  'Electrocorticographies',\n",
       "  'Electrocorticographies (EcoG)',\n",
       "  'Electrocorticographies, Extraoperative',\n",
       "  'Electrocorticographies, Intraoperative',\n",
       "  'Electrocorticography',\n",
       "  'Electrocorticography (EcoG)',\n",
       "  'Electrocorticography, Extraoperative',\n",
       "  'Electrocorticography, Intraoperative',\n",
       "  'Electroencephalographies, Intracranial',\n",
       "  'Electroencephalography, Intracranial',\n",
       "  'Eletrocorticografia',\n",
       "  'Extraoperative ECoG',\n",
       "  'Extraoperative ECoGs',\n",
       "  'Extraoperative Electrocorticographies',\n",
       "  'Extraoperative Electrocorticography',\n",
       "  'Intracranial EEG',\n",
       "  'Intracranial EEGs',\n",
       "  'Intracranial Electroencephalographies',\n",
       "  'Intracranial Electroencephalography',\n",
       "  'Intraoperative ECoG',\n",
       "  'Intraoperative ECoGs',\n",
       "  'Intraoperative Electrocorticographies',\n",
       "  'Intraoperative Electrocorticography'},\n",
       " 'qualifier': 'methods'}"
      ]
     },
     "execution_count": 10,
     "metadata": {},
     "output_type": "execute_result"
    }
   ],
   "source": [
    "import gzip, pickle\n",
    "\n",
    "with gzip.open('dictMesh.dict.gz','rb') as fp:\n",
    "    dictMesh = pickle.load(fp)\n",
    "    fp.close()\n",
    "    \n",
    "dictMesh['D000069280']"
   ]
  },
  {
   "cell_type": "code",
   "execution_count": null,
   "metadata": {},
   "outputs": [],
   "source": [
    "palavra = 'Red meat'\n",
    "for dui in dictMesh:\n",
    "    d = dictMesh[dui]\n",
    "    for t in d['terms']:\n",
    "        if t.lower() == palavra.lower():\n",
    "            print(dui, d['qualifier'])\n",
    "            break"
   ]
  },
  {
   "cell_type": "code",
   "execution_count": null,
   "metadata": {},
   "outputs": [],
   "source": [
    "termos=\" \"\n",
    "confirma = False\n",
    "evolucao = \"abd\"\n",
    "strr = \"\"\n",
    "\n",
    "#Verifica a lista para ver se a palavra esta no dicionario\n",
    "cont = 0\n",
    "for palavra in evolucao:\n",
    "    for dui in dictMesh:\n",
    "        d = dictMesh[dui]\n",
    "        for t in d['terms']:\n",
    "            if t.lower() == palavra.lower():\n",
    "                evolucao[cont] = '<a href=\"#\" data-ui=\"das\" data-term=\"\" data-scope=\"'+d['scope']+'\">'+palavra+'</a>'\n",
    "                cont +=1\n",
    "\n",
    "    teste = dictMesh[dui]['terms']\n",
    "    termos = ' '.join(teste)\n",
    "evolucao = evolucao.replace('data-terms=\"\"', 'data-terms=\"'+termos+'\"')#pegar os termos da lista e por aqui\n",
    "strr += ' '+evolucao\n",
    "\n",
    "#print(termos)\n",
    "termos"
   ]
  },
  {
   "cell_type": "code",
   "execution_count": null,
   "metadata": {},
   "outputs": [],
   "source": [
    "d['terms']"
   ]
  },
  {
   "cell_type": "code",
   "execution_count": null,
   "metadata": {},
   "outputs": [],
   "source": [
    "strr = \"meu[nome]\"\n",
    "strr = strr.replace('[', ' [')\n",
    "print(strr)\n"
   ]
  },
  {
   "cell_type": "code",
   "execution_count": null,
   "metadata": {},
   "outputs": [],
   "source": []
  }
 ],
 "metadata": {
  "kernelspec": {
   "display_name": "Python 3",
   "language": "python",
   "name": "python3"
  },
  "language_info": {
   "codemirror_mode": {
    "name": "ipython",
    "version": 3
   },
   "file_extension": ".py",
   "mimetype": "text/x-python",
   "name": "python",
   "nbconvert_exporter": "python",
   "pygments_lexer": "ipython3",
   "version": "3.6.3"
  }
 },
 "nbformat": 4,
 "nbformat_minor": 2
}
