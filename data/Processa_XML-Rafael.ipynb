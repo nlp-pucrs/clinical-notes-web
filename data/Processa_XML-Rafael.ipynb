{
 "cells": [
  {
   "cell_type": "markdown",
   "metadata": {},
   "source": [
    "### Como manipular XML com XPath"
   ]
  },
  {
   "cell_type": "code",
   "execution_count": 10,
   "metadata": {},
   "outputs": [],
   "source": [
    "from gensim.models import KeyedVectors\n",
    "import unicodedata\n",
    "\n",
    "import gzip\n",
    "import xml.etree.ElementTree as ET\n",
    "\n",
    "with gzip.open('pordesc2018-small.xml.gz') as pordesc2018:\n",
    "    tree = ET.parse(pordesc2018)\n",
    "    "
   ]
  },
  {
   "cell_type": "markdown",
   "metadata": {},
   "source": [
    "### Monta Dicionario"
   ]
  },
  {
   "cell_type": "code",
   "execution_count": 11,
   "metadata": {},
   "outputs": [],
   "source": [
    "from unicodedata import normalize\n",
    "def remover_acentos(txt):\n",
    "    return normalize('NFKD', txt).encode('ASCII', 'ignore').decode('ASCII')"
   ]
  },
  {
   "cell_type": "code",
   "execution_count": 12,
   "metadata": {},
   "outputs": [
    {
     "data": {
      "text/plain": [
       "1859"
      ]
     },
     "execution_count": 12,
     "metadata": {},
     "output_type": "execute_result"
    }
   ],
   "source": [
    "wordModel = KeyedVectors.load_word2vec_format('health_w2v_unigram_50.bin', binary=True)\n",
    "\n",
    "dictMesh = {}\n",
    "for d in tree.findall(\"./DescriptorRecord\"):\n",
    "    terms = []\n",
    "    \n",
    "    for aql in d.findall('.AllowableQualifiersList/AllowableQualifier/QualifierReferredTo/QualifierName'):\n",
    "        teste_qualifier = aql.find('./String').text\n",
    "        if(teste_qualifier == 'anatomy & histology' or teste_qualifier == 'pharmacology' or teste_qualifier == 'methods' or teste_qualifier == 'diagnosis'):\n",
    "            qualifier = teste_qualifier\n",
    "            break\n",
    "        else:\n",
    "            qualifier = \"#\"\n",
    "    \n",
    "    for c in d.findall('.ConceptList/'):\n",
    "        if c.find('./ScopeNote') != None:\n",
    "            scope = c.find('./ScopeNote').text.replace('\\n','').strip()\n",
    "        for t in c.findall('./TermList/'):\n",
    "            terms.append(t.find('./String').text)\n",
    "            \n",
    "            palavra_similar = []\n",
    "            \n",
    "            if t.find('./String').text.lower() in wordModel.vocab:\n",
    "                sem_assento = remover_acentos(t.find('./String').text)\n",
    "                palavra_similar = wordModel.most_similar_cosmul(sem_assento.lower(),topn=10)\n",
    "                for similar, porcentagem in palavra_similar:\n",
    "                    if(porcentagem > 0.9):\n",
    "                        terms.append(\"<i>\"+similar+\"</i>\")\n",
    "\n",
    "            \n",
    "    dictMesh[d.find('.DescriptorUI').text] = {\n",
    "        'ID': d.find('.DescriptorUI').text,\n",
    "        'name': d.find('.DescriptorName/String').text,\n",
    "        'scope': scope,\n",
    "        'terms': set(terms),\n",
    "        'qualifier': qualifier\n",
    "    }\n",
    "                \n",
    "    #break\n",
    "len(dictMesh)"
   ]
  },
  {
   "cell_type": "markdown",
   "metadata": {},
   "source": [
    "### Imprime Exemplo"
   ]
  },
  {
   "cell_type": "code",
   "execution_count": 13,
   "metadata": {},
   "outputs": [],
   "source": [
    "#for i in dictMesh:\n",
    "#    print (i)"
   ]
  },
  {
   "cell_type": "markdown",
   "metadata": {},
   "source": [
    "### Salva Dicionario"
   ]
  },
  {
   "cell_type": "code",
   "execution_count": 14,
   "metadata": {},
   "outputs": [],
   "source": [
    "import gzip, pickle\n",
    "\n",
    "with gzip.open('dictMesh.dict.gz','wb') as fp:\n",
    "    pickle.dump(dictMesh,fp)\n",
    "    fp.close()"
   ]
  },
  {
   "cell_type": "markdown",
   "metadata": {},
   "source": [
    "### Carrega Dicionario"
   ]
  },
  {
   "cell_type": "code",
   "execution_count": 16,
   "metadata": {},
   "outputs": [
    {
     "data": {
      "text/plain": [
       "{'ID': 'D000212',\n",
       " 'name': 'Aciclovir[Acyclovir]',\n",
       " 'scope': 'A GUANOSINE analog that acts as an antimetabolite. Viruses are especially susceptible. Used especially against herpes.',\n",
       " 'terms': {'9-((2-Hydroxyethoxy)methyl)guanine',\n",
       "  '<i>bactrim</i>',\n",
       "  '<i>bactrin</i>',\n",
       "  '<i>clindamicina</i>',\n",
       "  '<i>fluconazol</i>',\n",
       "  '<i>ganciclovir</i>',\n",
       "  '<i>sulfadiazina</i>',\n",
       "  'Aci Sanorania',\n",
       "  'Aci-Sanorania',\n",
       "  'Acic',\n",
       "  'Aciclobeta',\n",
       "  'Acicloguanosina',\n",
       "  'Aciclostad',\n",
       "  'Aciclovir',\n",
       "  'Aciclovir Alonga',\n",
       "  'Aciclovir Sanorania',\n",
       "  'Aciclovir-Sanorania',\n",
       "  'Acifur',\n",
       "  'Acipen Solutab',\n",
       "  'Acivir',\n",
       "  'Activir',\n",
       "  'Acyclo V',\n",
       "  'Acyclo-V',\n",
       "  'Acycloguanosine',\n",
       "  'Acyclovir',\n",
       "  'Acyclovir Sodium',\n",
       "  'Alonga, Aciclovir',\n",
       "  'Antiherpes Creme',\n",
       "  'Avirax',\n",
       "  'Cicloferon',\n",
       "  'Clonorax',\n",
       "  'Cusiviral',\n",
       "  'Genvir',\n",
       "  'Herpetad',\n",
       "  'Herpofug',\n",
       "  'Herpotern',\n",
       "  'Herpoviric',\n",
       "  'Isavir',\n",
       "  'Laciken',\n",
       "  'Mapox',\n",
       "  'Maynar',\n",
       "  'Milavir',\n",
       "  'Opthavir',\n",
       "  'Sodium, Acyclovir',\n",
       "  'Solutab, Acipen',\n",
       "  'Supraviran',\n",
       "  'Viclovir',\n",
       "  'Vipral',\n",
       "  'Virax Puren',\n",
       "  'Virax-Puren',\n",
       "  'ViraxPuren',\n",
       "  'Virherpes',\n",
       "  'Virmen',\n",
       "  'Virolex',\n",
       "  'Virupos',\n",
       "  'Virzin',\n",
       "  'Wellcome 248U',\n",
       "  'Wellcome-248U',\n",
       "  'Wellcome248U',\n",
       "  'Zoliparin',\n",
       "  'Zovirax',\n",
       "  'Zyclir',\n",
       "  'aciclovir von ct'},\n",
       " 'qualifier': 'pharmacology'}"
      ]
     },
     "execution_count": 16,
     "metadata": {},
     "output_type": "execute_result"
    }
   ],
   "source": [
    "import gzip, pickle\n",
    "\n",
    "with gzip.open('dictMesh.dict.gz','rb') as fp:\n",
    "    dictMesh = pickle.load(fp)\n",
    "    fp.close()\n",
    "    \n",
    "dictMesh['D000212']"
   ]
  },
  {
   "cell_type": "code",
   "execution_count": 48,
   "metadata": {},
   "outputs": [
    {
     "name": "stdout",
     "output_type": "stream",
     "text": [
      "<i>clindamicina</i><br/>- Virherpes<br/>- Acipen Solutab<br/>- Aciclobeta<br/>- Maynar<br/>- Mapox<br/>- Virolex<br/>- Acycloguanosine<br/>- Zyclir<br/>- Cusiviral<br/>- Zovirax<br/>- Isavir<br/>- Acyclovir Sodium<br/>- Cicloferon<br/>- <i>sulfadiazina</i><br/>- Herpotern<br/>- <i>fluconazol</i><br/>- Aci Sanorania<br/>- Alonga, Aciclovir<br/>- Virax Puren<br/>- Virmen<br/>- Aciclovir Alonga<br/>- Avirax<br/>- Acivir<br/>- Aciclovir-Sanorania<br/>- Virupos<br/>- Vipral<br/>- Laciken<br/>- Viclovir<br/>- Sodium, Acyclovir<br/>- Aci-Sanorania<br/>- Solutab, Acipen<br/>- Virax-Puren<br/>- Milavir<br/>- Wellcome248U<br/>- Herpetad<br/>- Acyclovir<br/>- Opthavir<br/>- aciclovir von ct<br/>- Activir<br/>- Clonorax<br/>- Zoliparin<br/>- Acyclo V<br/>- Acic<br/>- Acifur<br/>- Aciclostad<br/>- <i>bactrin</i><br/>- Virzin<br/>- 9-((2-Hydroxyethoxy)methyl)guanine<br/>- Wellcome 248U<br/>- <i>bactrim</i><br/>- ViraxPuren<br/>- Aciclovir<br/>- Herpoviric<br/>- Wellcome-248U<br/>- Antiherpes Creme<br/>- Supraviran<br/>- Acicloguanosina<br/>- <i>ganciclovir</i><br/>- Acyclo-V<br/>- Genvir<br/>- Aciclovir Sanorania<br/>- Herpofug\n"
     ]
    }
   ],
   "source": [
    "evolucao = 'Wellcome 248U'\n",
    "evolucao = evolucao.split(' ')\n",
    "for i, palavra in enumerate(evolucao):\n",
    "\n",
    "    ## Busca palavra no Mesh\n",
    "    for dui in dictMesh:\n",
    "        d = dictMesh[dui]\n",
    "        for t in d['terms']:\n",
    "            new_t = t.replace('<i>', '')\n",
    "            new_t = new_t.replace('</i>', '')\n",
    "\n",
    "            if i+1 < (len(evolucao)) and palavra.lower()+\" \"+evolucao[i+1].lower() == new_t.lower():\n",
    "                    teste = dictMesh[dui]['terms']\n",
    "                    termos = '<br/>- '.join(teste)\n",
    "                    print(termos)\n",
    "                    break\n",
    "            elif new_t.lower() == palavra.lower():\n",
    "                teste = dictMesh[dui]['terms']\n",
    "                termos = '<br/>- '.join(teste)"
   ]
  },
  {
   "cell_type": "code",
   "execution_count": null,
   "metadata": {},
   "outputs": [],
   "source": [
    "termos=\" \"\n",
    "confirma = False\n",
    "evolucao = \"abd\"\n",
    "strr = \"\"\n",
    "\n",
    "#Verifica a lista para ver se a palavra esta no dicionario\n",
    "cont = 0\n",
    "for palavra in evolucao:\n",
    "    for dui in dictMesh:\n",
    "        d = dictMesh[dui]\n",
    "        for t in d['terms']:\n",
    "            if t.lower() == palavra.lower():\n",
    "                evolucao[cont] = '<a href=\"#\" data-ui=\"das\" data-term=\"\" data-scope=\"'+d['scope']+'\">'+palavra+'</a>'\n",
    "                cont +=1\n",
    "\n",
    "    teste = dictMesh[dui]['terms']\n",
    "    termos = ' '.join(teste)\n",
    "evolucao = evolucao.replace('data-terms=\"\"', 'data-terms=\"'+termos+'\"')#pegar os termos da lista e por aqui\n",
    "strr += ' '+evolucao\n",
    "\n",
    "#print(termos)\n",
    "termos"
   ]
  },
  {
   "cell_type": "code",
   "execution_count": null,
   "metadata": {},
   "outputs": [],
   "source": [
    "d['terms']"
   ]
  },
  {
   "cell_type": "code",
   "execution_count": null,
   "metadata": {},
   "outputs": [],
   "source": [
    "strr = \"meu[nome]\"\n",
    "strr = strr.replace('[', ' [')\n",
    "print(strr)\n"
   ]
  },
  {
   "cell_type": "code",
   "execution_count": null,
   "metadata": {},
   "outputs": [],
   "source": []
  }
 ],
 "metadata": {
  "kernelspec": {
   "display_name": "Python 3",
   "language": "python",
   "name": "python3"
  },
  "language_info": {
   "codemirror_mode": {
    "name": "ipython",
    "version": 3
   },
   "file_extension": ".py",
   "mimetype": "text/x-python",
   "name": "python",
   "nbconvert_exporter": "python",
   "pygments_lexer": "ipython3",
   "version": "3.6.3"
  }
 },
 "nbformat": 4,
 "nbformat_minor": 2
}
